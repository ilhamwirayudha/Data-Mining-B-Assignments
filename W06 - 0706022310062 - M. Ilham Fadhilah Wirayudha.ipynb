{
  "cells": [
    {
      "cell_type": "markdown",
      "metadata": {
        "id": "9U_uLS05r9NB"
      },
      "source": [
        "# **Data Mining - Class Assignment W06 Random Forest and GBoost**\n",
        "\n",
        "## Group 20:\n",
        "- ### Varrel Tjandra - 0706022310017\n",
        "- ### M. Ilham Fadhilah Wirayudha - 0706022310062\n"
      ]
    },
    {
      "cell_type": "markdown",
      "metadata": {},
      "source": [
        "### Import Libraries"
      ]
    },
    {
      "cell_type": "code",
      "execution_count": 28,
      "metadata": {
        "id": "SSqvm0bvsAVJ"
      },
      "outputs": [],
      "source": [
        "# Import Library\n",
        "import pandas as pd\n",
        "import matplotlib.pyplot as plt\n",
        "import seaborn as sns"
      ]
    },
    {
      "cell_type": "markdown",
      "metadata": {},
      "source": [
        "### Load Dataset"
      ]
    },
    {
      "cell_type": "code",
      "execution_count": 29,
      "metadata": {
        "colab": {
          "base_uri": "https://localhost:8080/",
          "height": 206
        },
        "id": "Jnt9gzT1chby",
        "outputId": "0ebb5b7b-e61d-4eb5-8de2-7f9f7c92f25c"
      },
      "outputs": [
        {
          "data": {
            "text/html": [
              "<div>\n",
              "<style scoped>\n",
              "    .dataframe tbody tr th:only-of-type {\n",
              "        vertical-align: middle;\n",
              "    }\n",
              "\n",
              "    .dataframe tbody tr th {\n",
              "        vertical-align: top;\n",
              "    }\n",
              "\n",
              "    .dataframe thead th {\n",
              "        text-align: right;\n",
              "    }\n",
              "</style>\n",
              "<table border=\"1\" class=\"dataframe\">\n",
              "  <thead>\n",
              "    <tr style=\"text-align: right;\">\n",
              "      <th></th>\n",
              "      <th>age</th>\n",
              "      <th>job</th>\n",
              "      <th>marital</th>\n",
              "      <th>education</th>\n",
              "      <th>default</th>\n",
              "      <th>balance</th>\n",
              "      <th>housing</th>\n",
              "      <th>loan</th>\n",
              "      <th>contact</th>\n",
              "      <th>day</th>\n",
              "      <th>month</th>\n",
              "      <th>duration</th>\n",
              "      <th>campaign</th>\n",
              "      <th>pdays</th>\n",
              "      <th>previous</th>\n",
              "      <th>poutcome</th>\n",
              "      <th>y</th>\n",
              "    </tr>\n",
              "  </thead>\n",
              "  <tbody>\n",
              "    <tr>\n",
              "      <th>0</th>\n",
              "      <td>30</td>\n",
              "      <td>unemployed</td>\n",
              "      <td>married</td>\n",
              "      <td>primary</td>\n",
              "      <td>no</td>\n",
              "      <td>1787</td>\n",
              "      <td>no</td>\n",
              "      <td>no</td>\n",
              "      <td>cellular</td>\n",
              "      <td>19</td>\n",
              "      <td>oct</td>\n",
              "      <td>79</td>\n",
              "      <td>1</td>\n",
              "      <td>-1</td>\n",
              "      <td>0</td>\n",
              "      <td>unknown</td>\n",
              "      <td>no</td>\n",
              "    </tr>\n",
              "    <tr>\n",
              "      <th>1</th>\n",
              "      <td>33</td>\n",
              "      <td>services</td>\n",
              "      <td>married</td>\n",
              "      <td>secondary</td>\n",
              "      <td>no</td>\n",
              "      <td>4789</td>\n",
              "      <td>yes</td>\n",
              "      <td>yes</td>\n",
              "      <td>cellular</td>\n",
              "      <td>11</td>\n",
              "      <td>may</td>\n",
              "      <td>220</td>\n",
              "      <td>1</td>\n",
              "      <td>339</td>\n",
              "      <td>4</td>\n",
              "      <td>failure</td>\n",
              "      <td>no</td>\n",
              "    </tr>\n",
              "    <tr>\n",
              "      <th>2</th>\n",
              "      <td>35</td>\n",
              "      <td>management</td>\n",
              "      <td>single</td>\n",
              "      <td>tertiary</td>\n",
              "      <td>no</td>\n",
              "      <td>1350</td>\n",
              "      <td>yes</td>\n",
              "      <td>no</td>\n",
              "      <td>cellular</td>\n",
              "      <td>16</td>\n",
              "      <td>apr</td>\n",
              "      <td>185</td>\n",
              "      <td>1</td>\n",
              "      <td>330</td>\n",
              "      <td>1</td>\n",
              "      <td>failure</td>\n",
              "      <td>no</td>\n",
              "    </tr>\n",
              "    <tr>\n",
              "      <th>3</th>\n",
              "      <td>30</td>\n",
              "      <td>management</td>\n",
              "      <td>married</td>\n",
              "      <td>tertiary</td>\n",
              "      <td>no</td>\n",
              "      <td>1476</td>\n",
              "      <td>yes</td>\n",
              "      <td>yes</td>\n",
              "      <td>unknown</td>\n",
              "      <td>3</td>\n",
              "      <td>jun</td>\n",
              "      <td>199</td>\n",
              "      <td>4</td>\n",
              "      <td>-1</td>\n",
              "      <td>0</td>\n",
              "      <td>unknown</td>\n",
              "      <td>no</td>\n",
              "    </tr>\n",
              "    <tr>\n",
              "      <th>4</th>\n",
              "      <td>59</td>\n",
              "      <td>blue-collar</td>\n",
              "      <td>married</td>\n",
              "      <td>secondary</td>\n",
              "      <td>no</td>\n",
              "      <td>0</td>\n",
              "      <td>yes</td>\n",
              "      <td>no</td>\n",
              "      <td>unknown</td>\n",
              "      <td>5</td>\n",
              "      <td>may</td>\n",
              "      <td>226</td>\n",
              "      <td>1</td>\n",
              "      <td>-1</td>\n",
              "      <td>0</td>\n",
              "      <td>unknown</td>\n",
              "      <td>no</td>\n",
              "    </tr>\n",
              "  </tbody>\n",
              "</table>\n",
              "</div>"
            ],
            "text/plain": [
              "   age          job  marital  education default  balance housing loan  \\\n",
              "0   30   unemployed  married    primary      no     1787      no   no   \n",
              "1   33     services  married  secondary      no     4789     yes  yes   \n",
              "2   35   management   single   tertiary      no     1350     yes   no   \n",
              "3   30   management  married   tertiary      no     1476     yes  yes   \n",
              "4   59  blue-collar  married  secondary      no        0     yes   no   \n",
              "\n",
              "    contact  day month  duration  campaign  pdays  previous poutcome   y  \n",
              "0  cellular   19   oct        79         1     -1         0  unknown  no  \n",
              "1  cellular   11   may       220         1    339         4  failure  no  \n",
              "2  cellular   16   apr       185         1    330         1  failure  no  \n",
              "3   unknown    3   jun       199         4     -1         0  unknown  no  \n",
              "4   unknown    5   may       226         1     -1         0  unknown  no  "
            ]
          },
          "execution_count": 29,
          "metadata": {},
          "output_type": "execute_result"
        }
      ],
      "source": [
        "# load dataset\n",
        "pd.set_option('display.max_columns', None) # Display all columns\n",
        "\n",
        "url = \"https://raw.githubusercontent.com/NathaliaMinoque/datasets/refs/heads/main/Bank%20(1).csv\"\n",
        "df = pd.read_csv(url,sep=';')\n",
        "df.head()"
      ]
    },
    {
      "cell_type": "code",
      "execution_count": 30,
      "metadata": {
        "colab": {
          "base_uri": "https://localhost:8080/"
        },
        "id": "rglDG3eD86m0",
        "outputId": "c193989f-7745-4621-d348-ebe50e3aac4a"
      },
      "outputs": [
        {
          "name": "stdout",
          "output_type": "stream",
          "text": [
            "<class 'pandas.core.frame.DataFrame'>\n",
            "RangeIndex: 4521 entries, 0 to 4520\n",
            "Data columns (total 17 columns):\n",
            " #   Column     Non-Null Count  Dtype \n",
            "---  ------     --------------  ----- \n",
            " 0   age        4521 non-null   int64 \n",
            " 1   job        4521 non-null   object\n",
            " 2   marital    4521 non-null   object\n",
            " 3   education  4521 non-null   object\n",
            " 4   default    4521 non-null   object\n",
            " 5   balance    4521 non-null   int64 \n",
            " 6   housing    4521 non-null   object\n",
            " 7   loan       4521 non-null   object\n",
            " 8   contact    4521 non-null   object\n",
            " 9   day        4521 non-null   int64 \n",
            " 10  month      4521 non-null   object\n",
            " 11  duration   4521 non-null   int64 \n",
            " 12  campaign   4521 non-null   int64 \n",
            " 13  pdays      4521 non-null   int64 \n",
            " 14  previous   4521 non-null   int64 \n",
            " 15  poutcome   4521 non-null   object\n",
            " 16  y          4521 non-null   object\n",
            "dtypes: int64(7), object(10)\n",
            "memory usage: 600.6+ KB\n"
          ]
        }
      ],
      "source": [
        "# get info from dataset\n",
        "df.info()"
      ]
    },
    {
      "cell_type": "code",
      "execution_count": 31,
      "metadata": {
        "colab": {
          "base_uri": "https://localhost:8080/",
          "height": 300
        },
        "id": "YvIMpud_88kp",
        "outputId": "8b46bd7c-cead-49ff-fc96-cf8bb0a86245"
      },
      "outputs": [
        {
          "data": {
            "text/html": [
              "<div>\n",
              "<style scoped>\n",
              "    .dataframe tbody tr th:only-of-type {\n",
              "        vertical-align: middle;\n",
              "    }\n",
              "\n",
              "    .dataframe tbody tr th {\n",
              "        vertical-align: top;\n",
              "    }\n",
              "\n",
              "    .dataframe thead th {\n",
              "        text-align: right;\n",
              "    }\n",
              "</style>\n",
              "<table border=\"1\" class=\"dataframe\">\n",
              "  <thead>\n",
              "    <tr style=\"text-align: right;\">\n",
              "      <th></th>\n",
              "      <th>age</th>\n",
              "      <th>balance</th>\n",
              "      <th>day</th>\n",
              "      <th>duration</th>\n",
              "      <th>campaign</th>\n",
              "      <th>pdays</th>\n",
              "      <th>previous</th>\n",
              "    </tr>\n",
              "  </thead>\n",
              "  <tbody>\n",
              "    <tr>\n",
              "      <th>count</th>\n",
              "      <td>4521.000000</td>\n",
              "      <td>4521.000000</td>\n",
              "      <td>4521.000000</td>\n",
              "      <td>4521.000000</td>\n",
              "      <td>4521.000000</td>\n",
              "      <td>4521.000000</td>\n",
              "      <td>4521.000000</td>\n",
              "    </tr>\n",
              "    <tr>\n",
              "      <th>mean</th>\n",
              "      <td>41.170095</td>\n",
              "      <td>1422.657819</td>\n",
              "      <td>15.915284</td>\n",
              "      <td>263.961292</td>\n",
              "      <td>2.793630</td>\n",
              "      <td>39.766645</td>\n",
              "      <td>0.542579</td>\n",
              "    </tr>\n",
              "    <tr>\n",
              "      <th>std</th>\n",
              "      <td>10.576211</td>\n",
              "      <td>3009.638142</td>\n",
              "      <td>8.247667</td>\n",
              "      <td>259.856633</td>\n",
              "      <td>3.109807</td>\n",
              "      <td>100.121124</td>\n",
              "      <td>1.693562</td>\n",
              "    </tr>\n",
              "    <tr>\n",
              "      <th>min</th>\n",
              "      <td>19.000000</td>\n",
              "      <td>-3313.000000</td>\n",
              "      <td>1.000000</td>\n",
              "      <td>4.000000</td>\n",
              "      <td>1.000000</td>\n",
              "      <td>-1.000000</td>\n",
              "      <td>0.000000</td>\n",
              "    </tr>\n",
              "    <tr>\n",
              "      <th>25%</th>\n",
              "      <td>33.000000</td>\n",
              "      <td>69.000000</td>\n",
              "      <td>9.000000</td>\n",
              "      <td>104.000000</td>\n",
              "      <td>1.000000</td>\n",
              "      <td>-1.000000</td>\n",
              "      <td>0.000000</td>\n",
              "    </tr>\n",
              "    <tr>\n",
              "      <th>50%</th>\n",
              "      <td>39.000000</td>\n",
              "      <td>444.000000</td>\n",
              "      <td>16.000000</td>\n",
              "      <td>185.000000</td>\n",
              "      <td>2.000000</td>\n",
              "      <td>-1.000000</td>\n",
              "      <td>0.000000</td>\n",
              "    </tr>\n",
              "    <tr>\n",
              "      <th>75%</th>\n",
              "      <td>49.000000</td>\n",
              "      <td>1480.000000</td>\n",
              "      <td>21.000000</td>\n",
              "      <td>329.000000</td>\n",
              "      <td>3.000000</td>\n",
              "      <td>-1.000000</td>\n",
              "      <td>0.000000</td>\n",
              "    </tr>\n",
              "    <tr>\n",
              "      <th>max</th>\n",
              "      <td>87.000000</td>\n",
              "      <td>71188.000000</td>\n",
              "      <td>31.000000</td>\n",
              "      <td>3025.000000</td>\n",
              "      <td>50.000000</td>\n",
              "      <td>871.000000</td>\n",
              "      <td>25.000000</td>\n",
              "    </tr>\n",
              "  </tbody>\n",
              "</table>\n",
              "</div>"
            ],
            "text/plain": [
              "               age       balance          day     duration     campaign  \\\n",
              "count  4521.000000   4521.000000  4521.000000  4521.000000  4521.000000   \n",
              "mean     41.170095   1422.657819    15.915284   263.961292     2.793630   \n",
              "std      10.576211   3009.638142     8.247667   259.856633     3.109807   \n",
              "min      19.000000  -3313.000000     1.000000     4.000000     1.000000   \n",
              "25%      33.000000     69.000000     9.000000   104.000000     1.000000   \n",
              "50%      39.000000    444.000000    16.000000   185.000000     2.000000   \n",
              "75%      49.000000   1480.000000    21.000000   329.000000     3.000000   \n",
              "max      87.000000  71188.000000    31.000000  3025.000000    50.000000   \n",
              "\n",
              "             pdays     previous  \n",
              "count  4521.000000  4521.000000  \n",
              "mean     39.766645     0.542579  \n",
              "std     100.121124     1.693562  \n",
              "min      -1.000000     0.000000  \n",
              "25%      -1.000000     0.000000  \n",
              "50%      -1.000000     0.000000  \n",
              "75%      -1.000000     0.000000  \n",
              "max     871.000000    25.000000  "
            ]
          },
          "execution_count": 31,
          "metadata": {},
          "output_type": "execute_result"
        }
      ],
      "source": [
        "# get statistical info from dataset\n",
        "df.describe()"
      ]
    },
    {
      "cell_type": "markdown",
      "metadata": {},
      "source": [
        "<br>"
      ]
    },
    {
      "cell_type": "markdown",
      "metadata": {
        "id": "xxx6wdtZ9M5K"
      },
      "source": [
        "# **Part A – Data Preprocessing and EDA**"
      ]
    },
    {
      "cell_type": "markdown",
      "metadata": {},
      "source": [
        "### Handle Missing or Inconsistent Values"
      ]
    },
    {
      "cell_type": "code",
      "execution_count": 32,
      "metadata": {
        "colab": {
          "base_uri": "https://localhost:8080/",
          "height": 1000
        },
        "id": "8le7Od6v9JCP",
        "outputId": "0d32d353-81c4-441b-893b-84e062424b9b"
      },
      "outputs": [
        {
          "data": {
            "text/plain": [
              "{'age': array([30, 33, 35, 59, 36, 39, 41, 43, 20, 31, 40, 56, 37, 25, 38, 42, 44,\n",
              "        26, 55, 67, 53, 68, 32, 49, 78, 23, 52, 34, 61, 45, 48, 57, 54, 63,\n",
              "        51, 29, 50, 27, 60, 28, 21, 58, 22, 46, 24, 77, 75, 47, 70, 65, 64,\n",
              "        62, 66, 19, 81, 83, 80, 71, 72, 69, 79, 73, 86, 74, 76, 87, 84],\n",
              "       dtype=int64),\n",
              " 'job': array(['unemployed', 'services', 'management', 'blue-collar',\n",
              "        'self-employed', 'technician', 'entrepreneur', 'admin.', 'student',\n",
              "        'housemaid', 'retired', 'unknown'], dtype=object),\n",
              " 'marital': array(['married', 'single', 'divorced'], dtype=object),\n",
              " 'education': array(['primary', 'secondary', 'tertiary', 'unknown'], dtype=object),\n",
              " 'default': array(['no', 'yes'], dtype=object),\n",
              " 'balance': array([ 1787,  4789,  1350, ...,  -333, -3313,  1137], dtype=int64),\n",
              " 'housing': array(['no', 'yes'], dtype=object),\n",
              " 'loan': array(['no', 'yes'], dtype=object),\n",
              " 'contact': array(['cellular', 'unknown', 'telephone'], dtype=object),\n",
              " 'day': array([19, 11, 16,  3,  5, 23, 14,  6, 17, 20, 13, 30, 29, 27,  7, 18, 12,\n",
              "        21, 26, 22,  2,  4, 15,  8, 28,  9,  1, 10, 31, 25, 24],\n",
              "       dtype=int64),\n",
              " 'month': array(['oct', 'may', 'apr', 'jun', 'feb', 'aug', 'jan', 'jul', 'nov',\n",
              "        'sep', 'mar', 'dec'], dtype=object),\n",
              " 'duration': array([  79,  220,  185,  199,  226,  141,  341,  151,   57,  313,  273,\n",
              "         113,  328,  261,   89,  189,  239,  114,  250,  148,   96,  140,\n",
              "         109,  125,  169,  182,  247,  119,  149,   74,  897,   81,   40,\n",
              "         958,  354,  150,   97,  132,  765,   16,  609,  106,  365,  205,\n",
              "          11,  105,   59,  425,  204,  181, 1018, 1740,   98,  441,  272,\n",
              "         159,  295,  314,  579,  554,  323,  227,  134,  223,  155,  130,\n",
              "         630,  164,  268,  380,  154,  221,   67,  367,   87,  701,  652,\n",
              "          63,  398,  224,  406,   60,  521,  279,  203,  201,  372,  391,\n",
              "         165,  231,  291,  233,  473,  736,  337,  553,  345,   65,    9,\n",
              "         259,  371,  280,  243,  435,  258,    7,  317,   76,  170,  386,\n",
              "          83,   69,  564,  588,  779,  281, 1877,   51,   32,  176,  161,\n",
              "         187,   24,   85,  236,   54,   71,  489,   39,  455,   86,  190,\n",
              "          45,  168,  194,  103,  333,  102,   92,  213,  289,   77,  324,\n",
              "          84,   10,   35,   82,  676,   80,  549,  135,  412,  101,  253,\n",
              "         166,   18,  147,   14,   61,  377,  152,  382,  543,  240,   48,\n",
              "         471,  285,  301,  768, 1337,  403,  139,  196,  115,   17,   95,\n",
              "         198,  654,  256,  834,   20,  178,  111,  186,  297,  210,  112,\n",
              "         222,  195,  123,  145,  124,  216,  483,  690,  344,  673,  144,\n",
              "         246,  361,  375, 1097,  180,  373,  230,   58,   88,  487,   29,\n",
              "         484,  262,  644,  699,   49,   64,  121,  197,  331,  138,  312,\n",
              "         120,  526,  211,   62,  988,  451, 1030, 1484,  445,  383,  605,\n",
              "         330,  171,  442,  772,  249,  357,  271,  783,  472,  395,   56,\n",
              "         641,  429,  157,  162,  799, 1370,   22,  215, 1017,  298,  126,\n",
              "           8,  555,  270,  339,  342, 1434,   30,  397,  620,    6,  209,\n",
              "         419,  283,  188,  267,  245, 1065,  207,  456,  131,   94,  567,\n",
              "         153,   53,  234,  108,  208,  597,  505,  332,  212,  493,  681,\n",
              "         287,  202,   37,   72,  325, 1212,  319,  514,  551,  142,  293,\n",
              "         107,  127, 1816,  200,  418,  387,  156,   47,  265,   31,   28,\n",
              "         369,  854,   46,  266,  321,   99,  430,  264,  118,  343,    5,\n",
              "         722,  748,  523,  421,   15,  502,  193,  347,  468,  388, 1735,\n",
              "         172,  117,  587,  501,  282,  110,  104,  378, 1407,  738,   70,\n",
              "         904,  336,  238,  585,   68, 1713,  218,  661,  566,  136,  160,\n",
              "          44,  792,   73,   90,  346,  192,  682,  651,  405,  350,   36,\n",
              "         389, 3025,  219,  427,  533,   19,  819,  278,  617,   34,  668,\n",
              "          75,  146,  356,  251,  352,  184,  568,  260,  447,  426,  174,\n",
              "         284,  428,  237, 1031,  700,  590,   43,   27, 1181,  122,  307,\n",
              "         770,  767,  232,  986,   66,  158,  306,  559,  183,  631, 1282,\n",
              "        1199,  244,   55,  290,  385,  133,   91,   25,  275,  632,  100,\n",
              "          41,  446,  304,  335,  276,   42,  614,  557, 1663,  510, 1259,\n",
              "         225,  404, 1015,  761,  464,  206,  667,  143,  717,   38,  254,\n",
              "         882,  957,  299,  167,  500,  177,  457,  460, 1028,  315,  381,\n",
              "         643,  508,  128,  492,  257,  241,  536,  601, 1168,  277,  364,\n",
              "         229,  402,  175,  255,  820,  116,  463,  603,  191, 2087,  754,\n",
              "         303,  288,  891,  558,  228,  353,  296,  432, 1130,  305,  274,\n",
              "         860,  420,  756,  968,  408,   13,  763,  316,   50,    4,   78,\n",
              "         286,  766,  648,  688,   21,  593,  407,  563,   52,  803,  396,\n",
              "         637,  945, 1178,  506,  409,  327,  618,  936,  329,  179,  731,\n",
              "         670,  318,  415,  137,  349,  263,  671,  452,  163,  586,  650,\n",
              "         610,  747,  252,  883,  684,  686, 1060,  724,  424,  712,  753,\n",
              "        1081,  376,  433,  411, 1083,  757,  524,  653,   93,  503,  217,\n",
              "         475,  340,  242,  530,   23,  935,  773,  423,  626,  578,  248,\n",
              "         528,  785,  952, 1174,  915,  937,  129, 1063,  758,  574,  847,\n",
              "        1558,  789, 1441,  322, 1504,  537,  611,   26,   12,  235,  796,\n",
              "        1126,  697,  931, 1034,  362,  410,  570,  633,  659,  302,  727,\n",
              "         214,  173,  635,  540, 1210,  486,  646,  326,  414,  716,  449,\n",
              "         580,  399, 1029,  755,  619,  606,  971,  348,  594, 1275,  379,\n",
              "        1032,  393,  808,  923,  413,  541,  602,  762,  360,  310,  311,\n",
              "         638,  355,  300,  417,  308,  657,  434,  488, 1309, 1056,  908,\n",
              "         401,  827,  735,  691,  461,  669, 1473, 1386,  294,  910,  550,\n",
              "        1366, 1532,  955,  513, 1236,  809,  482, 1164,  674,  709,  436,\n",
              "         374,  309,  363,  422,  358,  640,  439,  476,  480,  517,  993,\n",
              "          33,  730,  636,  750,  334,  868,  351, 1689,  607,  485, 1021,\n",
              "         732,  577,  733,  788,  863, 1073,  525,  696,  535,  370,  465,\n",
              "         338,  956,  546,  470,  836,  544,  443, 1149,  707, 1451, 1143,\n",
              "         477,  450,  467,  292,  806,  560,  759, 1183,  598,  466,  431,\n",
              "         269,  542,  562,  515, 1165,  547,  780,  916,  474,  509,  679,\n",
              "        1472,  965, 1139,  504,  672,  749,  454,  531,  479,  384,  973,\n",
              "         728,  656,  998,  320,  615,  612,  664,  394,  877, 1971, 1258,\n",
              "         599,  655, 1994,  743,  924,  929,  491,  719,  565, 1529,  390,\n",
              "        1467, 1007,  665,  990,  582,  458,  775,  497,  698,  702,  520,\n",
              "        1156,  884, 1521,  359,  527,  994, 1579,  437, 1225,  865,  569,\n",
              "        1011,  814,  984,  392,  595, 1448,  529, 1006,  622,  494, 1022,\n",
              "        1044,  781, 1124,  400,  516, 1516,  978,  720,  495,  798,  876,\n",
              "         875,  481,  793, 1117, 1223, 1101,  744, 2769,  561,  715,  639,\n",
              "         538, 1721, 1608,  725,  519,  490,  907,  680,  977,  959,  693,\n",
              "        2029, 1009,  718,  805,  623,  976,  600,  469, 1010,  634, 1531,\n",
              "         764,  532,  825,  539,  816,  821, 1231,  742, 2456,  721,  777,\n",
              "         548,  830,  645,  723,  746,  869, 1173,  624,  518,  815,  857,\n",
              "         921,  627,  800,  366, 1088,  812,  866, 1151,  873,  592,  663,\n",
              "         576, 1476,  951, 1234, 1263,  660], dtype=int64),\n",
              " 'campaign': array([ 1,  4,  2,  5,  3,  6, 18, 10,  9,  7, 12, 14, 13, 24, 11,  8, 29,\n",
              "        32, 16, 22, 15, 30, 25, 21, 17, 19, 23, 20, 50, 28, 31, 44],\n",
              "       dtype=int64),\n",
              " 'pdays': array([ -1, 339, 330, 176, 147, 241, 152, 105, 342, 101,   5,  92,  56,\n",
              "        170, 182, 297, 196, 460, 137, 367, 145, 169, 207, 266, 288, 168,\n",
              "        345, 436,  90, 183, 146, 335, 347, 119,   7, 271, 181,  88, 141,\n",
              "        126,  61, 373, 351, 242,  62,  91, 308, 250, 172, 265,  78,  28,\n",
              "         79,   1, 188, 167,  89, 164, 462, 209, 321, 254,  94, 364,  96,\n",
              "        356, 149, 363, 275, 325, 341, 260, 358,  87, 303,  98, 327, 337,\n",
              "        322, 102,  99, 370,  84, 212,  63,  81, 191, 360, 332,  80,  85,\n",
              "        247, 150, 175, 382, 261, 336,  58, 206, 112, 199, 133, 208, 253,\n",
              "        135, 278, 140, 298, 273, 124, 281, 162, 323, 349, 117,   2, 256,\n",
              "        333, 116, 268, 136, 198, 357, 259, 353, 174, 371, 205, 246,  69,\n",
              "        315, 110, 461, 184, 270, 127, 187,  64, 130, 346, 100, 352, 808,\n",
              "        113, 378, 292, 287, 107, 293, 139, 138, 193, 274,  97, 103, 359,\n",
              "        185, 674, 211, 300, 334, 280, 479,  95, 262, 362, 225,   3, 366,\n",
              "         60, 190, 368, 122, 343, 131, 365, 299, 115, 316, 180, 154, 313,\n",
              "        264, 350,  73, 232, 204, 143, 375, 186, 344, 210, 248, 177, 221,\n",
              "        189, 104, 258, 305, 171, 120, 317, 178, 386, 118, 404, 374, 282,\n",
              "        179, 284, 227, 291, 173, 871, 238, 294, 222, 435, 340, 426, 239,\n",
              "         83, 111, 415, 255, 235, 244,  38, 683, 329,  59, 151, 192, 158,\n",
              "        338, 388, 165, 348, 197, 295, 109, 484, 326, 369, 397, 414, 319,\n",
              "        474,  93, 249, 272, 355, 195,  82, 541, 231, 153, 201, 761, 114,\n",
              "        385, 267, 161, 467,  75, 106, 223, 312, 148, 309, 283,  86, 166,\n",
              "        160, 450, 500, 311, 123, 159, 687, 224, 361,  74,  76, 286,  77,\n",
              "         57, 219, 331, 804, 144, 234], dtype=int64),\n",
              " 'previous': array([ 0,  4,  1,  3,  2,  5, 20,  7,  6, 10,  9,  8, 18, 19, 12, 13, 11,\n",
              "        14, 15, 24, 17, 22, 23, 25], dtype=int64),\n",
              " 'poutcome': array(['unknown', 'failure', 'other', 'success'], dtype=object),\n",
              " 'y': array(['no', 'yes'], dtype=object)}"
            ]
          },
          "metadata": {},
          "output_type": "display_data"
        }
      ],
      "source": [
        "# show unique values from dataset\n",
        "unique_values = {col: df[col].unique() for col in df.columns}\n",
        "display(unique_values)"
      ]
    },
    {
      "cell_type": "markdown",
      "metadata": {},
      "source": [
        "### Exploratory Data Analysis (EDA)"
      ]
    },
    {
      "cell_type": "code",
      "execution_count": 33,
      "metadata": {
        "colab": {
          "base_uri": "https://localhost:8080/",
          "height": 472
        },
        "id": "6-n57yDX9RyW",
        "outputId": "e457353a-5df4-4179-ace0-aa9eea3f3bb6"
      },
      "outputs": [
        {
          "data": {
            "image/png": "[encoded data removed]",
            "text/plain": [
              "<Figure size 640x480 with 1 Axes>"
            ]
          },
          "metadata": {},
          "output_type": "display_data"
        }
      ],
      "source": [
        "# show how many count of subsribe (yes and no)\n",
        "ax = sns.countplot(data=df, x='y')\n",
        "plt.title('Count of Subscribe')\n",
        "\n",
        "# Add labels to the bars\n",
        "for container in ax.containers:\n",
        "    ax.bar_label(container)\n",
        "plt.show()\n",
        "\n",
        "# it show that the taget feature is imbalance"
      ]
    },
    {
      "cell_type": "code",
      "execution_count": 34,
      "metadata": {
        "colab": {
          "base_uri": "https://localhost:8080/",
          "height": 410
        },
        "id": "KNoBci8HkuH1",
        "outputId": "81f48a2e-409c-4ffc-cf6b-2bdefa435ec0"
      },
      "outputs": [
        {
          "data": {
            "image/png": "[encoded data removed]",
            "text/plain": [
              "<Figure size 600x400 with 1 Axes>"
            ]
          },
          "metadata": {},
          "output_type": "display_data"
        }
      ],
      "source": [
        "# Age Distribution\n",
        "\n",
        "plt.figure(figsize=(6,4))\n",
        "sns.histplot(df[\"age\"], bins=20, kde=True, color=\"skyblue\")\n",
        "plt.title(\"Age Distribution of Clients\")\n",
        "plt.xlabel(\"Age\")\n",
        "plt.ylabel(\"Count\")\n",
        "plt.show()\n",
        "\n",
        "# Most clients are aged between 30–50 years, the distribution is right-skewed\n",
        "# Meaning younger and middle-aged clients dominate"
      ]
    },
    {
      "cell_type": "code",
      "execution_count": 58,
      "metadata": {
        "colab": {
          "base_uri": "https://localhost:8080/",
          "height": 500
        },
        "id": "Oh_zXL2zk3XY",
        "outputId": "2f7f890b-e638-4e10-e80f-404a6950be62"
      },
      "outputs": [
        {
          "name": "stderr",
          "output_type": "stream",
          "text": [
            "C:\\Users\\Ilham Fadhilah\\AppData\\Local\\Temp\\ipykernel_21028\\2190345792.py:4: FutureWarning: \n",
            "\n",
            "Passing `palette` without assigning `hue` is deprecated and will be removed in v0.14.0. Assign the `x` variable to `hue` and set `legend=False` for the same effect.\n",
            "\n",
            "  sns.boxplot(x='y', y='duration', data=df, palette=\"pastel\")\n"
          ]
        },
        {
          "data": {
            "image/png": "[encoded data removed]",
            "text/plain": [
              "<Figure size 600x400 with 1 Axes>"
            ]
          },
          "metadata": {},
          "output_type": "display_data"
        }
      ],
      "source": [
        "# Duration vs Subscription\n",
        "\n",
        "plt.figure(figsize=(6,4))\n",
        "sns.boxplot(x='y', y='duration', data=df, palette=\"pastel\")\n",
        "plt.title(\"Call Duration vs Subscription\")\n",
        "plt.xlabel(\"Subscribed to Term Deposit? (0=No, 1=Yes)\")\n",
        "plt.ylabel(\"Call Duration (seconds)\")\n",
        "plt.show()\n",
        "\n",
        "# Clients with longer call durations are much more likely to subscribe\n",
        "# This suggests that meaningful, longer interactions improve campaign success"
      ]
    },
    {
      "cell_type": "markdown",
      "metadata": {},
      "source": [
        "### Encode Categorical Variables"
      ]
    },
    {
      "cell_type": "code",
      "execution_count": 36,
      "metadata": {
        "colab": {
          "base_uri": "https://localhost:8080/",
          "height": 477
        },
        "id": "o8qxBqjQ-UU3",
        "outputId": "5bbc22b0-4494-421d-a69d-4fa3fe85de1c"
      },
      "outputs": [
        {
          "name": "stdout",
          "output_type": "stream",
          "text": [
            "{'contact': {'cellular': 0, 'telephone': 1, 'unknown': 2},\n",
            " 'job': {'admin.': 0,\n",
            "         'blue-collar': 1,\n",
            "         'entrepreneur': 2,\n",
            "         'housemaid': 3,\n",
            "         'management': 4,\n",
            "         'retired': 5,\n",
            "         'self-employed': 6,\n",
            "         'services': 7,\n",
            "         'student': 8,\n",
            "         'technician': 9,\n",
            "         'unemployed': 10,\n",
            "         'unknown': 11},\n",
            " 'marital': {'divorced': 0, 'married': 1, 'single': 2},\n",
            " 'poutcome': {'failure': 0, 'other': 1, 'success': 2, 'unknown': 3}}\n"
          ]
        },
        {
          "data": {
            "text/html": [
              "<div>\n",
              "<style scoped>\n",
              "    .dataframe tbody tr th:only-of-type {\n",
              "        vertical-align: middle;\n",
              "    }\n",
              "\n",
              "    .dataframe tbody tr th {\n",
              "        vertical-align: top;\n",
              "    }\n",
              "\n",
              "    .dataframe thead th {\n",
              "        text-align: right;\n",
              "    }\n",
              "</style>\n",
              "<table border=\"1\" class=\"dataframe\">\n",
              "  <thead>\n",
              "    <tr style=\"text-align: right;\">\n",
              "      <th></th>\n",
              "      <th>age</th>\n",
              "      <th>job</th>\n",
              "      <th>marital</th>\n",
              "      <th>education</th>\n",
              "      <th>default</th>\n",
              "      <th>balance</th>\n",
              "      <th>housing</th>\n",
              "      <th>loan</th>\n",
              "      <th>contact</th>\n",
              "      <th>day</th>\n",
              "      <th>month</th>\n",
              "      <th>duration</th>\n",
              "      <th>campaign</th>\n",
              "      <th>pdays</th>\n",
              "      <th>previous</th>\n",
              "      <th>poutcome</th>\n",
              "      <th>y</th>\n",
              "    </tr>\n",
              "  </thead>\n",
              "  <tbody>\n",
              "    <tr>\n",
              "      <th>3185</th>\n",
              "      <td>42</td>\n",
              "      <td>0.0</td>\n",
              "      <td>1.0</td>\n",
              "      <td>2</td>\n",
              "      <td>0</td>\n",
              "      <td>529</td>\n",
              "      <td>1</td>\n",
              "      <td>1</td>\n",
              "      <td>0.0</td>\n",
              "      <td>19</td>\n",
              "      <td>10</td>\n",
              "      <td>193</td>\n",
              "      <td>3</td>\n",
              "      <td>-1</td>\n",
              "      <td>0</td>\n",
              "      <td>3.0</td>\n",
              "      <td>0</td>\n",
              "    </tr>\n",
              "    <tr>\n",
              "      <th>2585</th>\n",
              "      <td>60</td>\n",
              "      <td>4.0</td>\n",
              "      <td>1.0</td>\n",
              "      <td>1</td>\n",
              "      <td>0</td>\n",
              "      <td>4895</td>\n",
              "      <td>0</td>\n",
              "      <td>0</td>\n",
              "      <td>2.0</td>\n",
              "      <td>9</td>\n",
              "      <td>5</td>\n",
              "      <td>313</td>\n",
              "      <td>1</td>\n",
              "      <td>-1</td>\n",
              "      <td>0</td>\n",
              "      <td>3.0</td>\n",
              "      <td>0</td>\n",
              "    </tr>\n",
              "    <tr>\n",
              "      <th>2786</th>\n",
              "      <td>28</td>\n",
              "      <td>1.0</td>\n",
              "      <td>2.0</td>\n",
              "      <td>2</td>\n",
              "      <td>0</td>\n",
              "      <td>6307</td>\n",
              "      <td>1</td>\n",
              "      <td>0</td>\n",
              "      <td>2.0</td>\n",
              "      <td>28</td>\n",
              "      <td>4</td>\n",
              "      <td>615</td>\n",
              "      <td>1</td>\n",
              "      <td>-1</td>\n",
              "      <td>0</td>\n",
              "      <td>3.0</td>\n",
              "      <td>0</td>\n",
              "    </tr>\n",
              "    <tr>\n",
              "      <th>3739</th>\n",
              "      <td>41</td>\n",
              "      <td>4.0</td>\n",
              "      <td>1.0</td>\n",
              "      <td>3</td>\n",
              "      <td>0</td>\n",
              "      <td>437</td>\n",
              "      <td>1</td>\n",
              "      <td>0</td>\n",
              "      <td>2.0</td>\n",
              "      <td>3</td>\n",
              "      <td>5</td>\n",
              "      <td>14</td>\n",
              "      <td>21</td>\n",
              "      <td>-1</td>\n",
              "      <td>0</td>\n",
              "      <td>3.0</td>\n",
              "      <td>0</td>\n",
              "    </tr>\n",
              "    <tr>\n",
              "      <th>1980</th>\n",
              "      <td>56</td>\n",
              "      <td>0.0</td>\n",
              "      <td>1.0</td>\n",
              "      <td>0</td>\n",
              "      <td>0</td>\n",
              "      <td>2038</td>\n",
              "      <td>0</td>\n",
              "      <td>0</td>\n",
              "      <td>0.0</td>\n",
              "      <td>8</td>\n",
              "      <td>1</td>\n",
              "      <td>405</td>\n",
              "      <td>1</td>\n",
              "      <td>305</td>\n",
              "      <td>1</td>\n",
              "      <td>2.0</td>\n",
              "      <td>0</td>\n",
              "    </tr>\n",
              "  </tbody>\n",
              "</table>\n",
              "</div>"
            ],
            "text/plain": [
              "      age  job  marital  education  default  balance  housing  loan  contact  \\\n",
              "3185   42  0.0      1.0          2        0      529        1     1      0.0   \n",
              "2585   60  4.0      1.0          1        0     4895        0     0      2.0   \n",
              "2786   28  1.0      2.0          2        0     6307        1     0      2.0   \n",
              "3739   41  4.0      1.0          3        0      437        1     0      2.0   \n",
              "1980   56  0.0      1.0          0        0     2038        0     0      0.0   \n",
              "\n",
              "      day  month  duration  campaign  pdays  previous  poutcome  y  \n",
              "3185   19     10       193         3     -1         0       3.0  0  \n",
              "2585    9      5       313         1     -1         0       3.0  0  \n",
              "2786   28      4       615         1     -1         0       3.0  0  \n",
              "3739    3      5        14        21     -1         0       3.0  0  \n",
              "1980    8      1       405         1    305         1       2.0  0  "
            ]
          },
          "execution_count": 36,
          "metadata": {},
          "output_type": "execute_result"
        }
      ],
      "source": [
        "# duplicate df\n",
        "df_encoded = df.copy()\n",
        "\n",
        "from sklearn.preprocessing import OneHotEncoder\n",
        "from sklearn.preprocessing import OrdinalEncoder\n",
        "\n",
        "# 1. One-Hot Encoding\n",
        "# Columns: y (target), default, housing,loan\n",
        "\n",
        "one_hot_map = {\n",
        "    'y': {'no': 0, 'yes': 1},\n",
        "    'default': {'no': 0, 'yes': 1},\n",
        "    'housing': {'no': 0, 'yes': 1},\n",
        "    'loan': {'no': 0, 'yes': 1},\n",
        "}\n",
        "\n",
        "for col, mapping in one_hot_map.items():\n",
        "    df_encoded[col] = df_encoded[col].map(mapping)\n",
        "\n",
        "\n",
        "# 2. Nominal Encoding\n",
        "nominal_cols = ['contact', 'job', 'marital','poutcome']\n",
        "encoder = OrdinalEncoder()\n",
        "df_encoded[nominal_cols] = encoder.fit_transform(df_encoded[nominal_cols])\n",
        "\n",
        "# 3. Ordinal Encoding\n",
        "Month_mapping = {\n",
        "    'jan': 0,\n",
        "    'feb': 1,\n",
        "    'mar': 2,\n",
        "    'apr': 3,\n",
        "    'may': 4,\n",
        "    'jun': 5,\n",
        "    'jul': 6,\n",
        "    'aug': 7,\n",
        "    'sep': 8,\n",
        "    'oct': 9,\n",
        "    'nov': 10,\n",
        "    'dec': 11\n",
        "}\n",
        "df_encoded['month'] = df_encoded['month'].map(Month_mapping)\n",
        "\n",
        "Education_mapping = {\n",
        "    'unknown': 0,\n",
        "    'primary': 1,\n",
        "    'secondary': 2,\n",
        "    'tertiary': 3\n",
        "}\n",
        "\n",
        "df_encoded['education'] = df_encoded['education'].map(Education_mapping)\n",
        "\n",
        "\n",
        "# Build a mapping dictionary\n",
        "encode_dict = {}\n",
        "\n",
        "for col, cats in zip(nominal_cols, encoder.categories_):\n",
        "    encode_dict[col] = {category: int(code) for code, category in enumerate(cats)}\n",
        "\n",
        "# Show the full dictionary\n",
        "import pprint\n",
        "pprint.pprint(encode_dict)\n",
        "\n",
        "df_encoded.sample(n = 5)"
      ]
    },
    {
      "cell_type": "markdown",
      "metadata": {
        "id": "52pS-r4fBzOZ"
      },
      "source": [
        "### Seperate Features and Target"
      ]
    },
    {
      "cell_type": "code",
      "execution_count": 37,
      "metadata": {
        "id": "vur0ABgHB5Lq"
      },
      "outputs": [],
      "source": [
        "X = df_encoded.drop('y', axis=1)\n",
        "y = df_encoded['y']"
      ]
    },
    {
      "cell_type": "code",
      "execution_count": 38,
      "metadata": {
        "colab": {
          "base_uri": "https://localhost:8080/",
          "height": 206
        },
        "id": "F6u-uZGVB9Xv",
        "outputId": "23803a1c-480e-4b6b-a0cb-03d4fee45c64"
      },
      "outputs": [
        {
          "data": {
            "text/html": [
              "<div>\n",
              "<style scoped>\n",
              "    .dataframe tbody tr th:only-of-type {\n",
              "        vertical-align: middle;\n",
              "    }\n",
              "\n",
              "    .dataframe tbody tr th {\n",
              "        vertical-align: top;\n",
              "    }\n",
              "\n",
              "    .dataframe thead th {\n",
              "        text-align: right;\n",
              "    }\n",
              "</style>\n",
              "<table border=\"1\" class=\"dataframe\">\n",
              "  <thead>\n",
              "    <tr style=\"text-align: right;\">\n",
              "      <th></th>\n",
              "      <th>age</th>\n",
              "      <th>job</th>\n",
              "      <th>marital</th>\n",
              "      <th>education</th>\n",
              "      <th>default</th>\n",
              "      <th>balance</th>\n",
              "      <th>housing</th>\n",
              "      <th>loan</th>\n",
              "      <th>contact</th>\n",
              "      <th>day</th>\n",
              "      <th>month</th>\n",
              "      <th>duration</th>\n",
              "      <th>campaign</th>\n",
              "      <th>pdays</th>\n",
              "      <th>previous</th>\n",
              "      <th>poutcome</th>\n",
              "    </tr>\n",
              "  </thead>\n",
              "  <tbody>\n",
              "    <tr>\n",
              "      <th>0</th>\n",
              "      <td>30</td>\n",
              "      <td>10.0</td>\n",
              "      <td>1.0</td>\n",
              "      <td>1</td>\n",
              "      <td>0</td>\n",
              "      <td>1787</td>\n",
              "      <td>0</td>\n",
              "      <td>0</td>\n",
              "      <td>0.0</td>\n",
              "      <td>19</td>\n",
              "      <td>9</td>\n",
              "      <td>79</td>\n",
              "      <td>1</td>\n",
              "      <td>-1</td>\n",
              "      <td>0</td>\n",
              "      <td>3.0</td>\n",
              "    </tr>\n",
              "    <tr>\n",
              "      <th>1</th>\n",
              "      <td>33</td>\n",
              "      <td>7.0</td>\n",
              "      <td>1.0</td>\n",
              "      <td>2</td>\n",
              "      <td>0</td>\n",
              "      <td>4789</td>\n",
              "      <td>1</td>\n",
              "      <td>1</td>\n",
              "      <td>0.0</td>\n",
              "      <td>11</td>\n",
              "      <td>4</td>\n",
              "      <td>220</td>\n",
              "      <td>1</td>\n",
              "      <td>339</td>\n",
              "      <td>4</td>\n",
              "      <td>0.0</td>\n",
              "    </tr>\n",
              "    <tr>\n",
              "      <th>2</th>\n",
              "      <td>35</td>\n",
              "      <td>4.0</td>\n",
              "      <td>2.0</td>\n",
              "      <td>3</td>\n",
              "      <td>0</td>\n",
              "      <td>1350</td>\n",
              "      <td>1</td>\n",
              "      <td>0</td>\n",
              "      <td>0.0</td>\n",
              "      <td>16</td>\n",
              "      <td>3</td>\n",
              "      <td>185</td>\n",
              "      <td>1</td>\n",
              "      <td>330</td>\n",
              "      <td>1</td>\n",
              "      <td>0.0</td>\n",
              "    </tr>\n",
              "    <tr>\n",
              "      <th>3</th>\n",
              "      <td>30</td>\n",
              "      <td>4.0</td>\n",
              "      <td>1.0</td>\n",
              "      <td>3</td>\n",
              "      <td>0</td>\n",
              "      <td>1476</td>\n",
              "      <td>1</td>\n",
              "      <td>1</td>\n",
              "      <td>2.0</td>\n",
              "      <td>3</td>\n",
              "      <td>5</td>\n",
              "      <td>199</td>\n",
              "      <td>4</td>\n",
              "      <td>-1</td>\n",
              "      <td>0</td>\n",
              "      <td>3.0</td>\n",
              "    </tr>\n",
              "    <tr>\n",
              "      <th>4</th>\n",
              "      <td>59</td>\n",
              "      <td>1.0</td>\n",
              "      <td>1.0</td>\n",
              "      <td>2</td>\n",
              "      <td>0</td>\n",
              "      <td>0</td>\n",
              "      <td>1</td>\n",
              "      <td>0</td>\n",
              "      <td>2.0</td>\n",
              "      <td>5</td>\n",
              "      <td>4</td>\n",
              "      <td>226</td>\n",
              "      <td>1</td>\n",
              "      <td>-1</td>\n",
              "      <td>0</td>\n",
              "      <td>3.0</td>\n",
              "    </tr>\n",
              "  </tbody>\n",
              "</table>\n",
              "</div>"
            ],
            "text/plain": [
              "   age   job  marital  education  default  balance  housing  loan  contact  \\\n",
              "0   30  10.0      1.0          1        0     1787        0     0      0.0   \n",
              "1   33   7.0      1.0          2        0     4789        1     1      0.0   \n",
              "2   35   4.0      2.0          3        0     1350        1     0      0.0   \n",
              "3   30   4.0      1.0          3        0     1476        1     1      2.0   \n",
              "4   59   1.0      1.0          2        0        0        1     0      2.0   \n",
              "\n",
              "   day  month  duration  campaign  pdays  previous  poutcome  \n",
              "0   19      9        79         1     -1         0       3.0  \n",
              "1   11      4       220         1    339         4       0.0  \n",
              "2   16      3       185         1    330         1       0.0  \n",
              "3    3      5       199         4     -1         0       3.0  \n",
              "4    5      4       226         1     -1         0       3.0  "
            ]
          },
          "execution_count": 38,
          "metadata": {},
          "output_type": "execute_result"
        }
      ],
      "source": [
        "X.head()"
      ]
    },
    {
      "cell_type": "code",
      "execution_count": 39,
      "metadata": {
        "colab": {
          "base_uri": "https://localhost:8080/",
          "height": 240
        },
        "id": "NSNuI0hWB_IT",
        "outputId": "827fe697-f63d-49e2-c47d-d741f16a0b6a"
      },
      "outputs": [
        {
          "data": {
            "text/plain": [
              "0    0\n",
              "1    0\n",
              "2    0\n",
              "3    0\n",
              "4    0\n",
              "Name: y, dtype: int64"
            ]
          },
          "execution_count": 39,
          "metadata": {},
          "output_type": "execute_result"
        }
      ],
      "source": [
        "y.head()"
      ]
    },
    {
      "cell_type": "markdown",
      "metadata": {
        "id": "aeAyFaeQCCqe"
      },
      "source": [
        "### Split Data"
      ]
    },
    {
      "cell_type": "code",
      "execution_count": 40,
      "metadata": {
        "id": "kgI_fTixCGAR"
      },
      "outputs": [],
      "source": [
        "from sklearn.model_selection import train_test_split\n",
        "\n",
        "X_train, X_test, y_train, y_test = train_test_split(X, y, test_size=0.3, random_state=0)"
      ]
    },
    {
      "cell_type": "code",
      "execution_count": 41,
      "metadata": {
        "colab": {
          "base_uri": "https://localhost:8080/"
        },
        "id": "hF7skRePCIE7",
        "outputId": "bedfc35e-afca-4a61-f855-2e4ec036c6a9"
      },
      "outputs": [
        {
          "data": {
            "text/plain": [
              "((3164, 16), (1357, 16))"
            ]
          },
          "execution_count": 41,
          "metadata": {},
          "output_type": "execute_result"
        }
      ],
      "source": [
        "# check the shape of X_train and X_test\n",
        "\n",
        "X_train.shape, X_test.shape"
      ]
    },
    {
      "cell_type": "code",
      "execution_count": 42,
      "metadata": {
        "colab": {
          "base_uri": "https://localhost:8080/",
          "height": 206
        },
        "id": "VWFNGwc_CKVS",
        "outputId": "550495e0-6198-4134-db2f-a82354973c07"
      },
      "outputs": [
        {
          "data": {
            "text/html": [
              "<div>\n",
              "<style scoped>\n",
              "    .dataframe tbody tr th:only-of-type {\n",
              "        vertical-align: middle;\n",
              "    }\n",
              "\n",
              "    .dataframe tbody tr th {\n",
              "        vertical-align: top;\n",
              "    }\n",
              "\n",
              "    .dataframe thead th {\n",
              "        text-align: right;\n",
              "    }\n",
              "</style>\n",
              "<table border=\"1\" class=\"dataframe\">\n",
              "  <thead>\n",
              "    <tr style=\"text-align: right;\">\n",
              "      <th></th>\n",
              "      <th>age</th>\n",
              "      <th>job</th>\n",
              "      <th>marital</th>\n",
              "      <th>education</th>\n",
              "      <th>default</th>\n",
              "      <th>balance</th>\n",
              "      <th>housing</th>\n",
              "      <th>loan</th>\n",
              "      <th>contact</th>\n",
              "      <th>day</th>\n",
              "      <th>month</th>\n",
              "      <th>duration</th>\n",
              "      <th>campaign</th>\n",
              "      <th>pdays</th>\n",
              "      <th>previous</th>\n",
              "      <th>poutcome</th>\n",
              "    </tr>\n",
              "  </thead>\n",
              "  <tbody>\n",
              "    <tr>\n",
              "      <th>565</th>\n",
              "      <td>40</td>\n",
              "      <td>9.0</td>\n",
              "      <td>1.0</td>\n",
              "      <td>2</td>\n",
              "      <td>0</td>\n",
              "      <td>56</td>\n",
              "      <td>1</td>\n",
              "      <td>1</td>\n",
              "      <td>0.0</td>\n",
              "      <td>29</td>\n",
              "      <td>0</td>\n",
              "      <td>194</td>\n",
              "      <td>1</td>\n",
              "      <td>247</td>\n",
              "      <td>1</td>\n",
              "      <td>0.0</td>\n",
              "    </tr>\n",
              "    <tr>\n",
              "      <th>3480</th>\n",
              "      <td>47</td>\n",
              "      <td>7.0</td>\n",
              "      <td>1.0</td>\n",
              "      <td>2</td>\n",
              "      <td>0</td>\n",
              "      <td>440</td>\n",
              "      <td>1</td>\n",
              "      <td>0</td>\n",
              "      <td>2.0</td>\n",
              "      <td>12</td>\n",
              "      <td>5</td>\n",
              "      <td>91</td>\n",
              "      <td>1</td>\n",
              "      <td>-1</td>\n",
              "      <td>0</td>\n",
              "      <td>3.0</td>\n",
              "    </tr>\n",
              "    <tr>\n",
              "      <th>2125</th>\n",
              "      <td>52</td>\n",
              "      <td>9.0</td>\n",
              "      <td>1.0</td>\n",
              "      <td>2</td>\n",
              "      <td>0</td>\n",
              "      <td>3554</td>\n",
              "      <td>0</td>\n",
              "      <td>1</td>\n",
              "      <td>0.0</td>\n",
              "      <td>8</td>\n",
              "      <td>6</td>\n",
              "      <td>89</td>\n",
              "      <td>1</td>\n",
              "      <td>-1</td>\n",
              "      <td>0</td>\n",
              "      <td>3.0</td>\n",
              "    </tr>\n",
              "    <tr>\n",
              "      <th>3452</th>\n",
              "      <td>31</td>\n",
              "      <td>0.0</td>\n",
              "      <td>1.0</td>\n",
              "      <td>2</td>\n",
              "      <td>0</td>\n",
              "      <td>0</td>\n",
              "      <td>1</td>\n",
              "      <td>0</td>\n",
              "      <td>0.0</td>\n",
              "      <td>29</td>\n",
              "      <td>6</td>\n",
              "      <td>82</td>\n",
              "      <td>5</td>\n",
              "      <td>-1</td>\n",
              "      <td>0</td>\n",
              "      <td>3.0</td>\n",
              "    </tr>\n",
              "    <tr>\n",
              "      <th>1667</th>\n",
              "      <td>33</td>\n",
              "      <td>1.0</td>\n",
              "      <td>1.0</td>\n",
              "      <td>2</td>\n",
              "      <td>0</td>\n",
              "      <td>-346</td>\n",
              "      <td>1</td>\n",
              "      <td>1</td>\n",
              "      <td>2.0</td>\n",
              "      <td>23</td>\n",
              "      <td>4</td>\n",
              "      <td>29</td>\n",
              "      <td>3</td>\n",
              "      <td>-1</td>\n",
              "      <td>0</td>\n",
              "      <td>3.0</td>\n",
              "    </tr>\n",
              "  </tbody>\n",
              "</table>\n",
              "</div>"
            ],
            "text/plain": [
              "      age  job  marital  education  default  balance  housing  loan  contact  \\\n",
              "565    40  9.0      1.0          2        0       56        1     1      0.0   \n",
              "3480   47  7.0      1.0          2        0      440        1     0      2.0   \n",
              "2125   52  9.0      1.0          2        0     3554        0     1      0.0   \n",
              "3452   31  0.0      1.0          2        0        0        1     0      0.0   \n",
              "1667   33  1.0      1.0          2        0     -346        1     1      2.0   \n",
              "\n",
              "      day  month  duration  campaign  pdays  previous  poutcome  \n",
              "565    29      0       194         1    247         1       0.0  \n",
              "3480   12      5        91         1     -1         0       3.0  \n",
              "2125    8      6        89         1     -1         0       3.0  \n",
              "3452   29      6        82         5     -1         0       3.0  \n",
              "1667   23      4        29         3     -1         0       3.0  "
            ]
          },
          "execution_count": 42,
          "metadata": {},
          "output_type": "execute_result"
        }
      ],
      "source": [
        "X_train.head()"
      ]
    },
    {
      "cell_type": "code",
      "execution_count": 43,
      "metadata": {
        "colab": {
          "base_uri": "https://localhost:8080/",
          "height": 206
        },
        "id": "0u4q67dUCKjI",
        "outputId": "066b9c46-2364-44b9-d8ab-6bb394d07e34"
      },
      "outputs": [
        {
          "data": {
            "text/html": [
              "<div>\n",
              "<style scoped>\n",
              "    .dataframe tbody tr th:only-of-type {\n",
              "        vertical-align: middle;\n",
              "    }\n",
              "\n",
              "    .dataframe tbody tr th {\n",
              "        vertical-align: top;\n",
              "    }\n",
              "\n",
              "    .dataframe thead th {\n",
              "        text-align: right;\n",
              "    }\n",
              "</style>\n",
              "<table border=\"1\" class=\"dataframe\">\n",
              "  <thead>\n",
              "    <tr style=\"text-align: right;\">\n",
              "      <th></th>\n",
              "      <th>age</th>\n",
              "      <th>job</th>\n",
              "      <th>marital</th>\n",
              "      <th>education</th>\n",
              "      <th>default</th>\n",
              "      <th>balance</th>\n",
              "      <th>housing</th>\n",
              "      <th>loan</th>\n",
              "      <th>contact</th>\n",
              "      <th>day</th>\n",
              "      <th>month</th>\n",
              "      <th>duration</th>\n",
              "      <th>campaign</th>\n",
              "      <th>pdays</th>\n",
              "      <th>previous</th>\n",
              "      <th>poutcome</th>\n",
              "    </tr>\n",
              "  </thead>\n",
              "  <tbody>\n",
              "    <tr>\n",
              "      <th>4274</th>\n",
              "      <td>35</td>\n",
              "      <td>1.0</td>\n",
              "      <td>1.0</td>\n",
              "      <td>1</td>\n",
              "      <td>0</td>\n",
              "      <td>378</td>\n",
              "      <td>1</td>\n",
              "      <td>0</td>\n",
              "      <td>2.0</td>\n",
              "      <td>16</td>\n",
              "      <td>4</td>\n",
              "      <td>427</td>\n",
              "      <td>3</td>\n",
              "      <td>-1</td>\n",
              "      <td>0</td>\n",
              "      <td>3.0</td>\n",
              "    </tr>\n",
              "    <tr>\n",
              "      <th>72</th>\n",
              "      <td>31</td>\n",
              "      <td>4.0</td>\n",
              "      <td>2.0</td>\n",
              "      <td>3</td>\n",
              "      <td>0</td>\n",
              "      <td>6248</td>\n",
              "      <td>1</td>\n",
              "      <td>0</td>\n",
              "      <td>2.0</td>\n",
              "      <td>9</td>\n",
              "      <td>4</td>\n",
              "      <td>154</td>\n",
              "      <td>2</td>\n",
              "      <td>-1</td>\n",
              "      <td>0</td>\n",
              "      <td>3.0</td>\n",
              "    </tr>\n",
              "    <tr>\n",
              "      <th>1065</th>\n",
              "      <td>30</td>\n",
              "      <td>10.0</td>\n",
              "      <td>1.0</td>\n",
              "      <td>3</td>\n",
              "      <td>0</td>\n",
              "      <td>0</td>\n",
              "      <td>1</td>\n",
              "      <td>0</td>\n",
              "      <td>0.0</td>\n",
              "      <td>18</td>\n",
              "      <td>10</td>\n",
              "      <td>756</td>\n",
              "      <td>1</td>\n",
              "      <td>-1</td>\n",
              "      <td>0</td>\n",
              "      <td>3.0</td>\n",
              "    </tr>\n",
              "    <tr>\n",
              "      <th>3185</th>\n",
              "      <td>42</td>\n",
              "      <td>0.0</td>\n",
              "      <td>1.0</td>\n",
              "      <td>2</td>\n",
              "      <td>0</td>\n",
              "      <td>529</td>\n",
              "      <td>1</td>\n",
              "      <td>1</td>\n",
              "      <td>0.0</td>\n",
              "      <td>19</td>\n",
              "      <td>10</td>\n",
              "      <td>193</td>\n",
              "      <td>3</td>\n",
              "      <td>-1</td>\n",
              "      <td>0</td>\n",
              "      <td>3.0</td>\n",
              "    </tr>\n",
              "    <tr>\n",
              "      <th>130</th>\n",
              "      <td>41</td>\n",
              "      <td>1.0</td>\n",
              "      <td>1.0</td>\n",
              "      <td>1</td>\n",
              "      <td>0</td>\n",
              "      <td>168</td>\n",
              "      <td>1</td>\n",
              "      <td>0</td>\n",
              "      <td>0.0</td>\n",
              "      <td>18</td>\n",
              "      <td>10</td>\n",
              "      <td>187</td>\n",
              "      <td>3</td>\n",
              "      <td>-1</td>\n",
              "      <td>0</td>\n",
              "      <td>3.0</td>\n",
              "    </tr>\n",
              "  </tbody>\n",
              "</table>\n",
              "</div>"
            ],
            "text/plain": [
              "      age   job  marital  education  default  balance  housing  loan  contact  \\\n",
              "4274   35   1.0      1.0          1        0      378        1     0      2.0   \n",
              "72     31   4.0      2.0          3        0     6248        1     0      2.0   \n",
              "1065   30  10.0      1.0          3        0        0        1     0      0.0   \n",
              "3185   42   0.0      1.0          2        0      529        1     1      0.0   \n",
              "130    41   1.0      1.0          1        0      168        1     0      0.0   \n",
              "\n",
              "      day  month  duration  campaign  pdays  previous  poutcome  \n",
              "4274   16      4       427         3     -1         0       3.0  \n",
              "72      9      4       154         2     -1         0       3.0  \n",
              "1065   18     10       756         1     -1         0       3.0  \n",
              "3185   19     10       193         3     -1         0       3.0  \n",
              "130    18     10       187         3     -1         0       3.0  "
            ]
          },
          "execution_count": 43,
          "metadata": {},
          "output_type": "execute_result"
        }
      ],
      "source": [
        "X_test.head()"
      ]
    },
    {
      "cell_type": "markdown",
      "metadata": {},
      "source": [
        "<br>"
      ]
    },
    {
      "cell_type": "markdown",
      "metadata": {},
      "source": [
        "# **Part B – Model Development**"
      ]
    },
    {
      "cell_type": "markdown",
      "metadata": {
        "id": "dJS1758ECP-e"
      },
      "source": [
        "### Decision Tree Classifier"
      ]
    },
    {
      "cell_type": "code",
      "execution_count": 44,
      "metadata": {
        "colab": {
          "base_uri": "https://localhost:8080/"
        },
        "id": "B2agQzmhCK25",
        "outputId": "d18fa3e5-7e84-4bfd-a0bd-ab30cf05451b"
      },
      "outputs": [
        {
          "name": "stdout",
          "output_type": "stream",
          "text": [
            "\n",
            "=== Classification Report (Training Set) ===\n",
            "              precision    recall  f1-score   support\n",
            "\n",
            "           0       1.00      1.00      1.00      2810\n",
            "           1       1.00      1.00      1.00       354\n",
            "\n",
            "    accuracy                           1.00      3164\n",
            "   macro avg       1.00      1.00      1.00      3164\n",
            "weighted avg       1.00      1.00      1.00      3164\n",
            "\n",
            "\n",
            "=== Classification Report (Test Set) ===\n",
            "              precision    recall  f1-score   support\n",
            "\n",
            "           0       0.92      0.91      0.92      1190\n",
            "           1       0.41      0.44      0.42       167\n",
            "\n",
            "    accuracy                           0.85      1357\n",
            "   macro avg       0.66      0.68      0.67      1357\n",
            "weighted avg       0.86      0.85      0.85      1357\n",
            "\n"
          ]
        }
      ],
      "source": [
        "from sklearn.tree import DecisionTreeClassifier\n",
        "from sklearn.metrics import f1_score, precision_score, recall_score, classification_report\n",
        "\n",
        "tree = DecisionTreeClassifier(random_state=0)\n",
        "tree.fit(X_train, y_train)\n",
        "\n",
        "y_pred_train = tree.predict(X_train)\n",
        "y_pred_test = tree.predict(X_test)\n",
        "\n",
        "print(\"\\n=== Classification Report (Training Set) ===\")\n",
        "print(classification_report(y_train, y_pred_train))\n",
        "\n",
        "print(\"\\n=== Classification Report (Test Set) ===\")\n",
        "print(classification_report(y_test, y_pred_test))"
      ]
    },
    {
      "cell_type": "markdown",
      "metadata": {
        "id": "0jh1WeMUnd5w"
      },
      "source": [
        "The score are not good because imbalance dataset. So we do Oversampling to solve imbalance."
      ]
    },
    {
      "cell_type": "markdown",
      "metadata": {
        "id": "sNiGRyaaCg2v"
      },
      "source": [
        "### Oversampling Using SMOTENC"
      ]
    },
    {
      "cell_type": "code",
      "execution_count": 45,
      "metadata": {
        "colab": {
          "base_uri": "https://localhost:8080/"
        },
        "id": "GZK59SLvCgrH",
        "outputId": "c6d0ba48-f638-4ee9-9f7d-989c7a1341d2"
      },
      "outputs": [
        {
          "data": {
            "text/plain": [
              "((5600, 16), (2400, 16))"
            ]
          },
          "execution_count": 45,
          "metadata": {},
          "output_type": "execute_result"
        }
      ],
      "source": [
        "# using SMOTE-NC for dataset containing numerical and categorical features.\n",
        "\n",
        "from imblearn.over_sampling import SMOTENC\n",
        "\n",
        "# we should define the categorical features first to make oversampling more accurate\n",
        "categorical_features = [\n",
        "    'job',\n",
        "    'marital',\n",
        "    'education',\n",
        "    'default',\n",
        "    'housing',\n",
        "    'loan',\n",
        "    'contact',\n",
        "    'month',\n",
        "    'day',\n",
        "    'poutcome'\n",
        "]\n",
        "\n",
        "smotenc = SMOTENC(categorical_features=categorical_features, random_state=42)\n",
        "X_resampled, y_resampled = smotenc.fit_resample(X, y)\n",
        "\n",
        "# dont forget to always do partitioning AFTER undersampling/oversampling\n",
        "X_train, X_test, y_train, y_test = train_test_split(X_resampled, y_resampled, test_size=0.3, random_state=0)\n",
        "\n",
        "# check the shape of X_train and X_test\n",
        "X_train.shape, X_test.shape"
      ]
    },
    {
      "cell_type": "code",
      "execution_count": 46,
      "metadata": {
        "colab": {
          "base_uri": "https://localhost:8080/",
          "height": 472
        },
        "id": "IbdE8IAQErLt",
        "outputId": "22d417fe-3e35-45f7-ae05-19eb1e07e2a9"
      },
      "outputs": [
        {
          "data": {
            "image/png": "[encoded data removed]",
            "text/plain": [
              "<Figure size 640x480 with 1 Axes>"
            ]
          },
          "metadata": {},
          "output_type": "display_data"
        }
      ],
      "source": [
        "# just to visualize the distribution of target class after SMOTENC\n",
        "\n",
        "sns.countplot(x=y_train)\n",
        "plt.title('Distribution of Subscribe after SMOTENC')\n",
        "plt.xlabel('y')\n",
        "plt.ylabel('Count')\n",
        "plt.show()"
      ]
    },
    {
      "cell_type": "code",
      "execution_count": 47,
      "metadata": {
        "colab": {
          "base_uri": "https://localhost:8080/"
        },
        "id": "0N4pxOnZE-Cq",
        "outputId": "f61b599b-387a-43d2-b6af-aca0e772f8a3"
      },
      "outputs": [
        {
          "name": "stdout",
          "output_type": "stream",
          "text": [
            "\n",
            "=== Classification Report (Training Set) ===\n",
            "              precision    recall  f1-score   support\n",
            "\n",
            "           0       1.00      1.00      1.00      2808\n",
            "           1       1.00      1.00      1.00      2792\n",
            "\n",
            "    accuracy                           1.00      5600\n",
            "   macro avg       1.00      1.00      1.00      5600\n",
            "weighted avg       1.00      1.00      1.00      5600\n",
            "\n",
            "\n",
            "=== Classification Report (Test Set) ===\n",
            "              precision    recall  f1-score   support\n",
            "\n",
            "           0       0.87      0.87      0.87      1192\n",
            "           1       0.87      0.87      0.87      1208\n",
            "\n",
            "    accuracy                           0.87      2400\n",
            "   macro avg       0.87      0.87      0.87      2400\n",
            "weighted avg       0.87      0.87      0.87      2400\n",
            "\n"
          ]
        }
      ],
      "source": [
        "# BUILD CLASSIFICATION MODEL\n",
        "tree = DecisionTreeClassifier()\n",
        "tree.fit(X_train, y_train)\n",
        "\n",
        "y_pred_train = tree.predict(X_train)\n",
        "y_pred_test = tree.predict(X_test)\n",
        "\n",
        "print(\"\\n=== Classification Report (Training Set) ===\")\n",
        "print(classification_report(y_train, y_pred_train))\n",
        "\n",
        "print(\"\\n=== Classification Report (Test Set) ===\")\n",
        "print(classification_report(y_test, y_pred_test))"
      ]
    },
    {
      "cell_type": "markdown",
      "metadata": {
        "id": "CNw4GEv3sNwJ"
      },
      "source": [
        "These are default matrix. to improve we do k fold and hyperparameter"
      ]
    },
    {
      "cell_type": "markdown",
      "metadata": {
        "id": "xqLDmbUDFGMz"
      },
      "source": [
        "### K Fold"
      ]
    },
    {
      "cell_type": "code",
      "execution_count": 48,
      "metadata": {
        "colab": {
          "base_uri": "https://localhost:8080/"
        },
        "id": "c9YOEjaBFCYF",
        "outputId": "f243bbf4-3d03-4f2b-e763-5cdcbb80393e"
      },
      "outputs": [
        {
          "name": "stdout",
          "output_type": "stream",
          "text": [
            "Fold:1, Train set: 3616, Test set:905\n",
            "Fold:2, Train set: 3617, Test set:904\n",
            "Fold:3, Train set: 3617, Test set:904\n",
            "Fold:4, Train set: 3617, Test set:904\n",
            "Fold:5, Train set: 3617, Test set:904\n"
          ]
        }
      ],
      "source": [
        "# Lets split the data into 5 folds.\n",
        "# We will use this 'kf'(KFold splitting stratergy) object as input to cross_val_score() method\n",
        "# The folds are made by preserving the percentage of samples for each class.\n",
        "from sklearn.model_selection import KFold, cross_val_score\n",
        "kf = KFold(n_splits=5, shuffle=True, random_state=42)\n",
        "\n",
        "cnt = 1\n",
        "# split() method generate indices to split data into training and test set.\n",
        "for train_index, test_index in kf.split(X, y):\n",
        "    print(f'Fold:{cnt}, Train set: {len(train_index)}, Test set:{len(test_index)}')\n",
        "    cnt+=1"
      ]
    },
    {
      "cell_type": "code",
      "execution_count": 49,
      "metadata": {
        "colab": {
          "base_uri": "https://localhost:8080/"
        },
        "id": "495xk1kcJI22",
        "outputId": "16917af7-d866-4ca9-d6f7-9e7e18a543a7"
      },
      "outputs": [
        {
          "name": "stdout",
          "output_type": "stream",
          "text": [
            "Scores for each fold are: [0.42364532 0.39772727 0.43601896 0.45021645 0.38888889]\n",
            "Average score: 0.42\n"
          ]
        }
      ],
      "source": [
        "from sklearn.tree import DecisionTreeClassifier\n",
        "\n",
        "score = cross_val_score(DecisionTreeClassifier(random_state= 42), X, y, cv= kf, scoring=\"f1\")\n",
        "print(f'Scores for each fold are: {score}')\n",
        "print(f'Average score: {\"{:.2f}\".format(score.mean())}')"
      ]
    },
    {
      "cell_type": "markdown",
      "metadata": {
        "id": "ZbR_iffiJbK3"
      },
      "source": [
        "### Hyperparameter"
      ]
    },
    {
      "cell_type": "code",
      "execution_count": 50,
      "metadata": {
        "colab": {
          "base_uri": "https://localhost:8080/"
        },
        "id": "BO1EtlkRJGF9",
        "outputId": "48e9baee-2688-4f5a-a624-9f77e2ce4743"
      },
      "outputs": [
        {
          "name": "stdout",
          "output_type": "stream",
          "text": [
            "Fitting 5 folds for each of 60 candidates, totalling 300 fits\n",
            "Best parameters:  {'criterion': 'gini', 'max_depth': 10, 'random_state': 41}\n",
            "Best cross-validation f1 score: 0.872\n"
          ]
        }
      ],
      "source": [
        "from sklearn.model_selection import GridSearchCV\n",
        "\n",
        "# Define the parameter grid to tune the hyperparameters\n",
        "param_grid = {\n",
        "    'criterion': ['gini', 'entropy'],\n",
        "    'max_depth': [1, 2, 3, 4, 5, 6, 7, 8, 9, 10],\n",
        "    'random_state': [0, 41, 42]\n",
        "}\n",
        "\n",
        "dtree_clf = DecisionTreeClassifier() # Initialize a decision tree classifier\n",
        "grid_search = GridSearchCV(estimator=dtree_clf, param_grid=param_grid,\n",
        "                           cv=5, n_jobs=-1, verbose=2, scoring='f1') # Use f1 scoring for classification\n",
        "grid_search.fit(X_train, y_train)\n",
        "\n",
        "best_dtree_clf = grid_search.best_estimator_ # Get the best estimator from the grid search\n",
        "y_pred_test = best_dtree_clf.predict(X_test)\n",
        "\n",
        "print(\"Best parameters: \", grid_search.best_params_)\n",
        "print(\"Best cross-validation f1 score: {:.3f}\".format(grid_search.best_score_))"
      ]
    },
    {
      "cell_type": "code",
      "execution_count": 51,
      "metadata": {
        "colab": {
          "base_uri": "https://localhost:8080/"
        },
        "id": "45v2bMotJJbr",
        "outputId": "05de73ba-d3a9-43f6-8e2f-f0732122c61a"
      },
      "outputs": [
        {
          "name": "stdout",
          "output_type": "stream",
          "text": [
            "\n",
            "=== Classification Report (Training Set) ===\n",
            "              precision    recall  f1-score   support\n",
            "\n",
            "           0       0.94      0.93      0.94      2808\n",
            "           1       0.93      0.94      0.94      2792\n",
            "\n",
            "    accuracy                           0.94      5600\n",
            "   macro avg       0.94      0.94      0.94      5600\n",
            "weighted avg       0.94      0.94      0.94      5600\n",
            "\n",
            "\n",
            "=== Classification Report (Test Set) ===\n",
            "              precision    recall  f1-score   support\n",
            "\n",
            "           0       0.86      0.86      0.86      1192\n",
            "           1       0.86      0.86      0.86      1208\n",
            "\n",
            "    accuracy                           0.86      2400\n",
            "   macro avg       0.86      0.86      0.86      2400\n",
            "weighted avg       0.86      0.86      0.86      2400\n",
            "\n"
          ]
        }
      ],
      "source": [
        "best_params = grid_search.best_params_\n",
        "\n",
        "final_tree = DecisionTreeClassifier(**best_params)\n",
        "final_tree.fit(X_train, y_train)\n",
        "\n",
        "y_pred_train = final_tree.predict(X_train)\n",
        "y_pred_test  = final_tree.predict(X_test)\n",
        "\n",
        "from sklearn.metrics import classification_report\n",
        "print(\"\\n=== Classification Report (Training Set) ===\")\n",
        "print(classification_report(y_train, y_pred_train))\n",
        "\n",
        "print(\"\\n=== Classification Report (Test Set) ===\")\n",
        "print(classification_report(y_test, y_pred_test))"
      ]
    },
    {
      "cell_type": "markdown",
      "metadata": {
        "id": "n6nVURK2KedM"
      },
      "source": [
        "### Random Forest"
      ]
    },
    {
      "cell_type": "code",
      "execution_count": 52,
      "metadata": {
        "colab": {
          "base_uri": "https://localhost:8080/"
        },
        "id": "qbmDd4tXKgXg",
        "outputId": "71efe481-be5a-4e7c-b09b-aed8dbd3d44b"
      },
      "outputs": [
        {
          "name": "stdout",
          "output_type": "stream",
          "text": [
            "\n",
            "=== Classification Report (Training Set - Random Forest) ===\n",
            "              precision    recall  f1-score   support\n",
            "\n",
            "           0       1.00      1.00      1.00      2808\n",
            "           1       1.00      1.00      1.00      2792\n",
            "\n",
            "    accuracy                           1.00      5600\n",
            "   macro avg       1.00      1.00      1.00      5600\n",
            "weighted avg       1.00      1.00      1.00      5600\n",
            "\n",
            "\n",
            "=== Classification Report (Test Set - Random Forest) ===\n",
            "              precision    recall  f1-score   support\n",
            "\n",
            "           0       0.94      0.92      0.93      1192\n",
            "           1       0.92      0.94      0.93      1208\n",
            "\n",
            "    accuracy                           0.93      2400\n",
            "   macro avg       0.93      0.93      0.93      2400\n",
            "weighted avg       0.93      0.93      0.93      2400\n",
            "\n"
          ]
        }
      ],
      "source": [
        "from sklearn.ensemble import RandomForestClassifier\n",
        "\n",
        "# Initialize Random Forest Classifier\n",
        "rf_clf = RandomForestClassifier(random_state=42)\n",
        "\n",
        "# Train the model using the resampled data\n",
        "rf_clf.fit(X_train, y_train)\n",
        "\n",
        "# Make predictions on the training and test sets\n",
        "y_pred_train_rf = rf_clf.predict(X_train)\n",
        "y_pred_test_rf = rf_clf.predict(X_test)\n",
        "\n",
        "# Print classification reports\n",
        "print(\"\\n=== Classification Report (Training Set - Random Forest) ===\")\n",
        "print(classification_report(y_train, y_pred_train_rf))\n",
        "\n",
        "print(\"\\n=== Classification Report (Test Set - Random Forest) ===\")\n",
        "print(classification_report(y_test, y_pred_test_rf))"
      ]
    },
    {
      "cell_type": "code",
      "execution_count": 53,
      "metadata": {
        "colab": {
          "base_uri": "https://localhost:8080/"
        },
        "id": "4b61d48e",
        "outputId": "10318e8e-e5ef-41dd-d7e5-0ce3a63c429b"
      },
      "outputs": [
        {
          "name": "stdout",
          "output_type": "stream",
          "text": [
            "Scores for each fold are: [0.92260442 0.93177628 0.93900185 0.91342535 0.93528694]\n",
            "Average score: 0.93\n"
          ]
        }
      ],
      "source": [
        "from sklearn.model_selection import KFold, cross_val_score\n",
        "\n",
        "# Initialize KFold with the same parameters as before\n",
        "kf = KFold(n_splits=5, shuffle=True, random_state=42)\n",
        "\n",
        "# Initialize Random Forest Classifier\n",
        "rf_clf_kf = RandomForestClassifier(random_state=42)\n",
        "\n",
        "# Perform cross-validation\n",
        "score_rf = cross_val_score(rf_clf_kf, X_resampled, y_resampled, cv=kf, scoring=\"f1\")\n",
        "\n",
        "print(f'Scores for each fold are: {score_rf}')\n",
        "print(f'Average score: {\"{:.2f}\".format(score_rf.mean())}')"
      ]
    },
    {
      "cell_type": "code",
      "execution_count": 54,
      "metadata": {
        "colab": {
          "base_uri": "https://localhost:8080/"
        },
        "id": "a2281bdc",
        "outputId": "e2d0912b-5845-4b1d-f705-a42124fdbb67"
      },
      "outputs": [
        {
          "name": "stdout",
          "output_type": "stream",
          "text": [
            "Fitting 5 folds for each of 270 candidates, totalling 1350 fits\n",
            "Best parameters for Random Forest:  {'criterion': 'entropy', 'max_depth': None, 'min_samples_leaf': 1, 'min_samples_split': 2, 'n_estimators': 200, 'random_state': 42}\n",
            "Best cross-validation f1 score for Random Forest: 0.923\n"
          ]
        }
      ],
      "source": [
        "from sklearn.model_selection import GridSearchCV\n",
        "from sklearn.ensemble import RandomForestClassifier\n",
        "\n",
        "# Define the parameter grid to tune the hyperparameters for Random Forest\n",
        "param_grid_rf = {\n",
        "    'n_estimators': [100, 200, 300],\n",
        "    'max_depth': [5, 10, 15, 20, None],\n",
        "    'min_samples_split': [2, 5, 10],\n",
        "    'min_samples_leaf': [1, 2, 4],\n",
        "    'criterion': ['gini', 'entropy'],\n",
        "    'random_state': [42]\n",
        "}\n",
        "\n",
        "rf_clf_tuning = RandomForestClassifier() # Initialize a Random Forest classifier\n",
        "grid_search_rf = GridSearchCV(estimator=rf_clf_tuning, param_grid=param_grid_rf,\n",
        "                           cv=5, n_jobs=-1, verbose=2, scoring='f1') # Use f1 scoring for classification\n",
        "\n",
        "# Fit the grid search on the resampled training data\n",
        "grid_search_rf.fit(X_train, y_train)\n",
        "\n",
        "best_rf_clf = grid_search_rf.best_estimator_ # Get the best estimator from the grid search\n",
        "\n",
        "print(\"Best parameters for Random Forest: \", grid_search_rf.best_params_)\n",
        "print(\"Best cross-validation f1 score for Random Forest: {:.3f}\".format(grid_search_rf.best_score_))"
      ]
    },
    {
      "cell_type": "markdown",
      "metadata": {
        "id": "y8jL-Fj4ZzzM"
      },
      "source": [
        "### XGboost"
      ]
    },
    {
      "cell_type": "code",
      "execution_count": 55,
      "metadata": {
        "colab": {
          "base_uri": "https://localhost:8080/"
        },
        "id": "tu9amVQoZkmP",
        "outputId": "bdfec4e9-b4a9-4dfd-9034-a9beddc67532"
      },
      "outputs": [
        {
          "name": "stdout",
          "output_type": "stream",
          "text": [
            "\n",
            "=== Classification Report (Training Set - XGBoost) ===\n",
            "              precision    recall  f1-score   support\n",
            "\n",
            "           0       1.00      0.99      1.00      2808\n",
            "           1       0.99      1.00      1.00      2792\n",
            "\n",
            "    accuracy                           1.00      5600\n",
            "   macro avg       1.00      1.00      1.00      5600\n",
            "weighted avg       1.00      1.00      1.00      5600\n",
            "\n",
            "\n",
            "=== Classification Report (Test Set - XGBoost) ===\n",
            "              precision    recall  f1-score   support\n",
            "\n",
            "           0       0.94      0.91      0.92      1192\n",
            "           1       0.92      0.94      0.93      1208\n",
            "\n",
            "    accuracy                           0.93      2400\n",
            "   macro avg       0.93      0.93      0.93      2400\n",
            "weighted avg       0.93      0.93      0.93      2400\n",
            "\n"
          ]
        }
      ],
      "source": [
        "import xgboost as xgb\n",
        "\n",
        "# Initialize XGBoost Classifier\n",
        "xgb_clf = xgb.XGBClassifier(random_state=42)\n",
        "\n",
        "# Train the model using the resampled data\n",
        "xgb_clf.fit(X_train, y_train)\n",
        "\n",
        "# Make predictions on the training and test sets\n",
        "y_pred_train_xgb = xgb_clf.predict(X_train)\n",
        "y_pred_test_xgb = xgb_clf.predict(X_test)\n",
        "\n",
        "# Print classification reports\n",
        "print(\"\\n=== Classification Report (Training Set - XGBoost) ===\")\n",
        "print(classification_report(y_train, y_pred_train_xgb))\n",
        "\n",
        "print(\"\\n=== Classification Report (Test Set - XGBoost) ===\")\n",
        "print(classification_report(y_test, y_pred_test_xgb))"
      ]
    },
    {
      "cell_type": "code",
      "execution_count": 56,
      "metadata": {
        "colab": {
          "base_uri": "https://localhost:8080/"
        },
        "id": "nyd7gMWPaKdF",
        "outputId": "56f3f1c4-8bff-4061-a31b-bd067dc9563c"
      },
      "outputs": [
        {
          "name": "stdout",
          "output_type": "stream",
          "text": [
            "Scores for each fold are: [0.93580247 0.93677103 0.93950617 0.92852704 0.94275274]\n",
            "Average score: 0.94\n"
          ]
        }
      ],
      "source": [
        "from sklearn.model_selection import KFold, cross_val_score\n",
        "import xgboost as xgb\n",
        "\n",
        "# Initialize KFold with the same parameters as before\n",
        "kf = KFold(n_splits=5, shuffle=True, random_state=42)\n",
        "\n",
        "# Initialize XGBoost Classifier\n",
        "xgb_clf_kf = xgb.XGBClassifier(random_state=42)\n",
        "\n",
        "# Perform cross-validation\n",
        "score_xgb = cross_val_score(xgb_clf_kf, X_resampled, y_resampled, cv=kf, scoring=\"f1\")\n",
        "\n",
        "print(f'Scores for each fold are: {score_xgb}')\n",
        "print(f'Average score: {\"{:.2f}\".format(score_xgb.mean())}')"
      ]
    },
    {
      "cell_type": "markdown",
      "metadata": {},
      "source": [
        "<br>"
      ]
    },
    {
      "cell_type": "markdown",
      "metadata": {},
      "source": [
        "# **Part C – Model Evaluation**"
      ]
    },
    {
      "cell_type": "code",
      "execution_count": 57,
      "metadata": {
        "colab": {
          "base_uri": "https://localhost:8080/"
        },
        "id": "d282fc05",
        "outputId": "1aa82c8d-d95d-44e7-a5c1-48c62f2cfc8f"
      },
      "outputs": [
        {
          "name": "stdout",
          "output_type": "stream",
          "text": [
            "Fitting 5 folds for each of 576 candidates, totalling 2880 fits\n"
          ]
        },
        {
          "name": "stderr",
          "output_type": "stream",
          "text": [
            "c:\\Conda\\Lib\\site-packages\\numpy\\ma\\core.py:2820: RuntimeWarning: invalid value encountered in cast\n",
            "  _data = np.array(data, dtype=dtype, copy=copy,\n"
          ]
        },
        {
          "name": "stdout",
          "output_type": "stream",
          "text": [
            "Best parameters for XGBoost:  {'colsample_bytree': 0.7, 'learning_rate': 0.2, 'max_depth': 10, 'n_estimators': 200, 'random_state': 42, 'subsample': 0.8}\n",
            "Best cross-validation f1 score for XGBoost: 0.936\n"
          ]
        }
      ],
      "source": [
        "from sklearn.model_selection import GridSearchCV\n",
        "import xgboost as xgb\n",
        "\n",
        "# Define the parameter grid to tune the hyperparameters for XGBoost\n",
        "param_grid_xgb = {\n",
        "    'n_estimators': [100, 200, 300],\n",
        "    'max_depth': [3, 5, 7, 10],\n",
        "    'learning_rate': [0.01, 0.1, 0.2],\n",
        "    'subsample': [0.7, 0.8, 0.9, 1.0],\n",
        "    'colsample_bytree': [0.7, 0.8, 0.9, 1.0],\n",
        "    'random_state': [42]\n",
        "}\n",
        "\n",
        "xgb_clf_tuning = xgb.XGBClassifier() # Initialize an XGBoost classifier\n",
        "grid_search_xgb = GridSearchCV(estimator=xgb_clf_tuning, param_grid=param_grid_xgb,\n",
        "                           cv=5, n_jobs=-1, verbose=2, scoring='f1') # Use f1 scoring for classification\n",
        "\n",
        "# Fit the grid search on the resampled training data\n",
        "grid_search_xgb.fit(X_train, y_train)\n",
        "\n",
        "best_xgb_clf = grid_search_xgb.best_estimator_ # Get the best estimator from the grid search\n",
        "\n",
        "print(\"Best parameters for XGBoost: \", grid_search_xgb.best_params_)\n",
        "print(\"Best cross-validation f1 score for XGBoost: {:.3f}\".format(grid_search_xgb.best_score_))"
      ]
    },
    {
      "cell_type": "markdown",
      "metadata": {
        "id": "MflkkJldhEKc"
      },
      "source": [
        "                  Accuracy Precision Recall F1-score\n",
        "    Decision Tree 87       87        87     87\n",
        "    Random Forest 93       93        93     93\n",
        "    XGBoost       93       93        93     93\n"
      ]
    },
    {
      "cell_type": "markdown",
      "metadata": {},
      "source": [
        "<br>"
      ]
    },
    {
      "cell_type": "markdown",
      "metadata": {},
      "source": [
        "# **Part D – Discussion & Insights**"
      ]
    },
    {
      "cell_type": "markdown",
      "metadata": {
        "id": "Zl3hbROCsl_l"
      },
      "source": [
        "**Which model performed best overall?**\n",
        "- Random Forest and XGBoost \n",
        "<br><br>\n",
        "\n",
        "**Did ensemble methods (RF, XGBoost) improve performance compared to a single Decision Tree?**\n",
        "- Yes, both Random Forest and XGBoost showed significant improvement in performance compared to the single Decision Tree Classifier, especially after addressing the class imbalance with SMOTENC. The F1 scores for the ensemble methods were around 0.93-0.94 on the resampled data \n",
        "<br><br>\n",
        "\n",
        "**How could the bank use these insights to refine its marketing strategy?**\n",
        "- Target customers more effectively: The models can predict which customers are more likely to subscribe to a term deposit. The bank can focus its marketing efforts on these high-potential customers, optimizing resource allocation.\n",
        "- Personalize marketing campaigns: By analyzing the features that are most important for predicting subscription (which can be obtained from the best performing model), the bank can tailor their marketing messages and offers to specific customer segments. For example, if 'duration' is a key feature, the bank might focus on strategies that encourage longer, more engaging interactions with potential customers.\n",
        "- Improve campaign timing and contact methods: Features like 'month', 'day', and 'contact' also play a role in predicting subscription. The bank can use this information to identify the best times and channels to reach out to customers.\n",
        "- Assess the impact of previous campaigns: The 'poutcome' and 'previous' features provide information about the results of past marketing efforts. This can help the bank understand what worked and what didn't, and adjust their strategies accordingly.\n",
        "- Proactively identify customers less likely to subscribe: The models can also identify customers who are unlikely to subscribe. The bank can avoid spending resources on these customers or try a different approach altogether.\n",
        "- Evaluate the effectiveness of new marketing initiatives: By monitoring the performance of the models on new data, the bank can assess whether new marketing strategies are having a positive impact on subscription rates."
      ]
    }
  ],
  "metadata": {
    "colab": {
      "provenance": []
    },
    "kernelspec": {
      "display_name": "base",
      "language": "python",
      "name": "python3"
    },
    "language_info": {
      "codemirror_mode": {
        "name": "ipython",
        "version": 3
      },
      "file_extension": ".py",
      "mimetype": "text/x-python",
      "name": "python",
      "nbconvert_exporter": "python",
      "pygments_lexer": "ipython3",
      "version": "3.12.7"
    }
  },
  "nbformat": 4,
  "nbformat_minor": 0
}
