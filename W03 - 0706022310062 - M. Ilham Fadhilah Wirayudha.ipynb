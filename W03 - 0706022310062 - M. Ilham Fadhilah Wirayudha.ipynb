{
 "cells": [
  {
   "cell_type": "markdown",
   "id": "3412eccd",
   "metadata": {},
   "source": [
    "# **Data Mining (B) - Class Activity W03 Decision Tree & Naïve Bayes Classification**\n",
    "\n",
    "### **M. Ilham Fadhilah Wirayudha - 0706022310062**"
   ]
  },
  {
   "cell_type": "markdown",
   "id": "adb4d198",
   "metadata": {},
   "source": [
    "<br>"
   ]
  },
  {
   "cell_type": "markdown",
   "id": "c64be45a",
   "metadata": {},
   "source": [
    "### Import Library"
   ]
  },
  {
   "cell_type": "code",
   "execution_count": 173,
   "id": "b34f5dad",
   "metadata": {},
   "outputs": [],
   "source": [
    "import pandas as pd\n",
    "import matplotlib.pyplot as plt\n",
    "import seaborn as sns\n",
    "\n",
    "from sklearn.model_selection import train_test_split\n",
    "from sklearn.preprocessing import LabelEncoder\n",
    "from sklearn.tree import DecisionTreeClassifier\n",
    "from sklearn.naive_bayes import GaussianNB\n",
    "from sklearn.metrics import accuracy_score"
   ]
  },
  {
   "cell_type": "markdown",
   "id": "5f164e9b",
   "metadata": {},
   "source": [
    "### Load Dataset"
   ]
  },
  {
   "cell_type": "code",
   "execution_count": 174,
   "id": "0d279535",
   "metadata": {},
   "outputs": [],
   "source": [
    "df = pd.read_csv('https://raw.githubusercontent.com/NathaliaMinoque/datasets/refs/heads/main/synthetic_coffee_health.csv')"
   ]
  },
  {
   "cell_type": "markdown",
   "id": "ed0fde67",
   "metadata": {},
   "source": [
    "### Inspect Dataset"
   ]
  },
  {
   "cell_type": "code",
   "execution_count": 175,
   "id": "88023cff",
   "metadata": {},
   "outputs": [
    {
     "name": "stdout",
     "output_type": "stream",
     "text": [
      "<class 'pandas.core.frame.DataFrame'>\n",
      "RangeIndex: 10000 entries, 0 to 9999\n",
      "Data columns (total 16 columns):\n",
      " #   Column                   Non-Null Count  Dtype  \n",
      "---  ------                   --------------  -----  \n",
      " 0   ID                       10000 non-null  int64  \n",
      " 1   Age                      10000 non-null  int64  \n",
      " 2   Gender                   10000 non-null  object \n",
      " 3   Country                  10000 non-null  object \n",
      " 4   Coffee_Intake            10000 non-null  float64\n",
      " 5   Caffeine_mg              10000 non-null  float64\n",
      " 6   Sleep_Hours              10000 non-null  float64\n",
      " 7   Sleep_Quality            10000 non-null  object \n",
      " 8   BMI                      10000 non-null  float64\n",
      " 9   Heart_Rate               10000 non-null  int64  \n",
      " 10  Stress_Level             10000 non-null  object \n",
      " 11  Physical_Activity_Hours  10000 non-null  float64\n",
      " 12  Health_Issues            10000 non-null  object \n",
      " 13  Occupation               10000 non-null  object \n",
      " 14  Smoking                  10000 non-null  int64  \n",
      " 15  Alcohol_Consumption      10000 non-null  int64  \n",
      "dtypes: float64(5), int64(5), object(6)\n",
      "memory usage: 1.2+ MB\n"
     ]
    }
   ],
   "source": [
    "df[\"Health_Issues\"] = df[\"Health_Issues\"].fillna(\"None\")\n",
    "\n",
    "df.info()"
   ]
  },
  {
   "cell_type": "code",
   "execution_count": 176,
   "id": "5c227ddc",
   "metadata": {},
   "outputs": [
    {
     "data": {
      "text/html": [
       "<div>\n",
       "<style scoped>\n",
       "    .dataframe tbody tr th:only-of-type {\n",
       "        vertical-align: middle;\n",
       "    }\n",
       "\n",
       "    .dataframe tbody tr th {\n",
       "        vertical-align: top;\n",
       "    }\n",
       "\n",
       "    .dataframe thead th {\n",
       "        text-align: right;\n",
       "    }\n",
       "</style>\n",
       "<table border=\"1\" class=\"dataframe\">\n",
       "  <thead>\n",
       "    <tr style=\"text-align: right;\">\n",
       "      <th></th>\n",
       "      <th>ID</th>\n",
       "      <th>Age</th>\n",
       "      <th>Coffee_Intake</th>\n",
       "      <th>Caffeine_mg</th>\n",
       "      <th>Sleep_Hours</th>\n",
       "      <th>BMI</th>\n",
       "      <th>Heart_Rate</th>\n",
       "      <th>Physical_Activity_Hours</th>\n",
       "      <th>Smoking</th>\n",
       "      <th>Alcohol_Consumption</th>\n",
       "    </tr>\n",
       "  </thead>\n",
       "  <tbody>\n",
       "    <tr>\n",
       "      <th>count</th>\n",
       "      <td>10000.00000</td>\n",
       "      <td>10000.000000</td>\n",
       "      <td>10000.000000</td>\n",
       "      <td>10000.000000</td>\n",
       "      <td>10000.000000</td>\n",
       "      <td>10000.000000</td>\n",
       "      <td>10000.000000</td>\n",
       "      <td>10000.00000</td>\n",
       "      <td>10000.00000</td>\n",
       "      <td>10000.000000</td>\n",
       "    </tr>\n",
       "    <tr>\n",
       "      <th>mean</th>\n",
       "      <td>5000.50000</td>\n",
       "      <td>34.949100</td>\n",
       "      <td>2.509230</td>\n",
       "      <td>238.411010</td>\n",
       "      <td>6.636220</td>\n",
       "      <td>23.986860</td>\n",
       "      <td>70.617800</td>\n",
       "      <td>7.48704</td>\n",
       "      <td>0.20040</td>\n",
       "      <td>0.300700</td>\n",
       "    </tr>\n",
       "    <tr>\n",
       "      <th>std</th>\n",
       "      <td>2886.89568</td>\n",
       "      <td>11.160939</td>\n",
       "      <td>1.450248</td>\n",
       "      <td>137.748815</td>\n",
       "      <td>1.222055</td>\n",
       "      <td>3.906411</td>\n",
       "      <td>9.822951</td>\n",
       "      <td>4.31518</td>\n",
       "      <td>0.40032</td>\n",
       "      <td>0.458585</td>\n",
       "    </tr>\n",
       "    <tr>\n",
       "      <th>min</th>\n",
       "      <td>1.00000</td>\n",
       "      <td>18.000000</td>\n",
       "      <td>0.000000</td>\n",
       "      <td>0.000000</td>\n",
       "      <td>3.000000</td>\n",
       "      <td>15.000000</td>\n",
       "      <td>50.000000</td>\n",
       "      <td>0.00000</td>\n",
       "      <td>0.00000</td>\n",
       "      <td>0.000000</td>\n",
       "    </tr>\n",
       "    <tr>\n",
       "      <th>25%</th>\n",
       "      <td>2500.75000</td>\n",
       "      <td>26.000000</td>\n",
       "      <td>1.500000</td>\n",
       "      <td>138.750000</td>\n",
       "      <td>5.800000</td>\n",
       "      <td>21.300000</td>\n",
       "      <td>64.000000</td>\n",
       "      <td>3.70000</td>\n",
       "      <td>0.00000</td>\n",
       "      <td>0.000000</td>\n",
       "    </tr>\n",
       "    <tr>\n",
       "      <th>50%</th>\n",
       "      <td>5000.50000</td>\n",
       "      <td>34.000000</td>\n",
       "      <td>2.500000</td>\n",
       "      <td>235.400000</td>\n",
       "      <td>6.600000</td>\n",
       "      <td>24.000000</td>\n",
       "      <td>71.000000</td>\n",
       "      <td>7.50000</td>\n",
       "      <td>0.00000</td>\n",
       "      <td>0.000000</td>\n",
       "    </tr>\n",
       "    <tr>\n",
       "      <th>75%</th>\n",
       "      <td>7500.25000</td>\n",
       "      <td>43.000000</td>\n",
       "      <td>3.500000</td>\n",
       "      <td>332.025000</td>\n",
       "      <td>7.500000</td>\n",
       "      <td>26.600000</td>\n",
       "      <td>77.000000</td>\n",
       "      <td>11.20000</td>\n",
       "      <td>0.00000</td>\n",
       "      <td>1.000000</td>\n",
       "    </tr>\n",
       "    <tr>\n",
       "      <th>max</th>\n",
       "      <td>10000.00000</td>\n",
       "      <td>80.000000</td>\n",
       "      <td>8.200000</td>\n",
       "      <td>780.300000</td>\n",
       "      <td>10.000000</td>\n",
       "      <td>38.200000</td>\n",
       "      <td>109.000000</td>\n",
       "      <td>15.00000</td>\n",
       "      <td>1.00000</td>\n",
       "      <td>1.000000</td>\n",
       "    </tr>\n",
       "  </tbody>\n",
       "</table>\n",
       "</div>"
      ],
      "text/plain": [
       "                ID           Age  Coffee_Intake   Caffeine_mg   Sleep_Hours  \\\n",
       "count  10000.00000  10000.000000   10000.000000  10000.000000  10000.000000   \n",
       "mean    5000.50000     34.949100       2.509230    238.411010      6.636220   \n",
       "std     2886.89568     11.160939       1.450248    137.748815      1.222055   \n",
       "min        1.00000     18.000000       0.000000      0.000000      3.000000   \n",
       "25%     2500.75000     26.000000       1.500000    138.750000      5.800000   \n",
       "50%     5000.50000     34.000000       2.500000    235.400000      6.600000   \n",
       "75%     7500.25000     43.000000       3.500000    332.025000      7.500000   \n",
       "max    10000.00000     80.000000       8.200000    780.300000     10.000000   \n",
       "\n",
       "                BMI    Heart_Rate  Physical_Activity_Hours      Smoking  \\\n",
       "count  10000.000000  10000.000000              10000.00000  10000.00000   \n",
       "mean      23.986860     70.617800                  7.48704      0.20040   \n",
       "std        3.906411      9.822951                  4.31518      0.40032   \n",
       "min       15.000000     50.000000                  0.00000      0.00000   \n",
       "25%       21.300000     64.000000                  3.70000      0.00000   \n",
       "50%       24.000000     71.000000                  7.50000      0.00000   \n",
       "75%       26.600000     77.000000                 11.20000      0.00000   \n",
       "max       38.200000    109.000000                 15.00000      1.00000   \n",
       "\n",
       "       Alcohol_Consumption  \n",
       "count         10000.000000  \n",
       "mean              0.300700  \n",
       "std               0.458585  \n",
       "min               0.000000  \n",
       "25%               0.000000  \n",
       "50%               0.000000  \n",
       "75%               1.000000  \n",
       "max               1.000000  "
      ]
     },
     "execution_count": 176,
     "metadata": {},
     "output_type": "execute_result"
    }
   ],
   "source": [
    "df.describe()"
   ]
  },
  {
   "cell_type": "code",
   "execution_count": 177,
   "id": "c32a8673",
   "metadata": {},
   "outputs": [
    {
     "name": "stdout",
     "output_type": "stream",
     "text": [
      "   ID  Age  Gender  Country  Coffee_Intake  Caffeine_mg  Sleep_Hours  \\\n",
      "0   1   40    Male  Germany            3.5        328.1          7.5   \n",
      "1   2   33    Male  Germany            1.0         94.1          6.2   \n",
      "2   3   42    Male   Brazil            5.3        503.7          5.9   \n",
      "3   4   53    Male  Germany            2.6        249.2          7.3   \n",
      "4   5   32  Female    Spain            3.1        298.0          5.3   \n",
      "\n",
      "  Sleep_Quality   BMI  Heart_Rate Stress_Level  Physical_Activity_Hours  \\\n",
      "0          Good  24.9          78          Low                     14.5   \n",
      "1          Good  20.0          67          Low                     11.0   \n",
      "2          Fair  22.7          59       Medium                     11.2   \n",
      "3          Good  24.7          71          Low                      6.6   \n",
      "4          Fair  24.1          76       Medium                      8.5   \n",
      "\n",
      "  Health_Issues Occupation  Smoking  Alcohol_Consumption  \n",
      "0          None      Other        0                    0  \n",
      "1          None    Service        0                    0  \n",
      "2          Mild     Office        0                    0  \n",
      "3          Mild      Other        0                    0  \n",
      "4          Mild    Student        0                    1  \n"
     ]
    }
   ],
   "source": [
    "print(df.head())"
   ]
  },
  {
   "cell_type": "markdown",
   "id": "90dfb088",
   "metadata": {},
   "source": [
    "### Visualization and The Interpretation"
   ]
  },
  {
   "cell_type": "code",
   "execution_count": 178,
   "id": "ea2e5484",
   "metadata": {},
   "outputs": [
    {
     "data": {
      "image/png": "[encoded data removed]",
      "text/plain": [
       "<Figure size 1000x600 with 1 Axes>"
      ]
     },
     "metadata": {},
     "output_type": "display_data"
    },
    {
     "name": "stdout",
     "output_type": "stream",
     "text": [
      "Interpretation 1: The 'None' category for health issues is the most common, indicating an imbalanced dataset, which is typical for health-related data.\n"
     ]
    }
   ],
   "source": [
    "plt.figure(figsize=(10, 6))\n",
    "sns.countplot(data=df, x='Health_Issues', order=['None', 'Mild', 'Moderate', 'Severe'])\n",
    "plt.title('Distribution of Health Issues')\n",
    "plt.xlabel('Health Issues')\n",
    "plt.ylabel('Count')\n",
    "plt.show()\n",
    "print(\"Interpretation 1: The 'None' category for health issues is the most common, indicating an imbalanced dataset, which is typical for health-related data.\")"
   ]
  },
  {
   "cell_type": "code",
   "execution_count": 179,
   "id": "c21ba6c7",
   "metadata": {},
   "outputs": [
    {
     "data": {
      "image/png": "[encoded data removed]",
      "text/plain": [
       "<Figure size 1000x600 with 1 Axes>"
      ]
     },
     "metadata": {},
     "output_type": "display_data"
    },
    {
     "name": "stdout",
     "output_type": "stream",
     "text": [
      "Interpretation 2: There is a visible trend where more severe health issues are associated with fewer hours of sleep\n"
     ]
    }
   ],
   "source": [
    "plt.figure(figsize=(10, 6))\n",
    "sns.boxplot(data=df, x='Health_Issues', y='Sleep_Hours', order=['None', 'Mild', 'Moderate', 'Severe'])\n",
    "plt.title('Sleep Hours vs. Health Issues')\n",
    "plt.xlabel('Health Issues')\n",
    "plt.ylabel('Hours of Sleep')\n",
    "plt.show()\n",
    "\n",
    "print(\"Interpretation 2: There is a visible trend where more severe health issues are associated with fewer hours of sleep\")"
   ]
  },
  {
   "cell_type": "code",
   "execution_count": 180,
   "id": "34391c4f",
   "metadata": {},
   "outputs": [
    {
     "data": {
      "image/png": "[encoded data removed]",
      "text/plain": [
       "<Figure size 1000x600 with 1 Axes>"
      ]
     },
     "metadata": {},
     "output_type": "display_data"
    },
    {
     "name": "stdout",
     "output_type": "stream",
     "text": [
      "Interpretation 3: Individuals with 'High' stress levels tend to have a higher and more varied coffee intake\n"
     ]
    }
   ],
   "source": [
    "plt.figure(figsize=(10, 6))\n",
    "sns.violinplot(data=df, x='Stress_Level', y='Coffee_Intake', order=['Low', 'Medium', 'High'])\n",
    "plt.title('Coffee Intake by Stress Level')\n",
    "plt.xlabel('Stress Level')\n",
    "plt.ylabel('Daily Coffee Intake (cups)')\n",
    "plt.show()\n",
    "print(\"Interpretation 3: Individuals with 'High' stress levels tend to have a higher and more varied coffee intake\")"
   ]
  },
  {
   "cell_type": "markdown",
   "id": "1586b55e",
   "metadata": {},
   "source": [
    "### Encode categorical variables."
   ]
  },
  {
   "cell_type": "code",
   "execution_count": 181,
   "id": "bb1cbdf9",
   "metadata": {},
   "outputs": [],
   "source": [
    "df_processed = df.copy()\n",
    "df_processed = df_processed.drop('ID', axis=1)"
   ]
  },
  {
   "cell_type": "code",
   "execution_count": 182,
   "id": "3e94647f",
   "metadata": {},
   "outputs": [],
   "source": [
    "df_processed.rename(columns={\n",
    "    'Age': 'age', \n",
    "    'Gender': 'gender', \n",
    "    'Country': 'country', \n",
    "    'Occupation': 'occupation',\n",
    "    'Coffee_Intake': 'daily_coffee_intake', \n",
    "    'Caffeine_mg': 'caffeine_level_mg',\n",
    "    'Sleep_Hours': 'sleep_duration_hrs', \n",
    "    'Sleep_Quality': 'sleep_quality', \n",
    "    'BMI': 'BMI',\n",
    "    'Heart_Rate': 'heart_rate', \n",
    "    'Stress_Level': 'stress_level',\n",
    "    'Physical_Activity_Hours': 'physical_activity',\n",
    "    'Smoking': 'smoking', \n",
    "    'Alcohol_Consumption': 'alcohol_consumption'\n",
    "}, inplace=True)"
   ]
  },
  {
   "cell_type": "code",
   "execution_count": 183,
   "id": "610f408c",
   "metadata": {},
   "outputs": [],
   "source": [
    "df_processed['physical_activity'] = pd.cut(df_processed['physical_activity'], bins=[-1, 2, 5, 15], labels=['Low', 'Medium', 'High'])\n",
    "df_processed['smoking'] = df_processed['smoking'].replace({1: 'Yes', 0: 'No'})\n",
    "df_processed['alcohol_consumption'] = df_processed['alcohol_consumption'].replace({1: 'Yes', 0: 'No'})"
   ]
  },
  {
   "cell_type": "code",
   "execution_count": 184,
   "id": "c9cc9220",
   "metadata": {},
   "outputs": [
    {
     "name": "stdout",
     "output_type": "stream",
     "text": [
      "   age  gender  country  daily_coffee_intake  caffeine_level_mg  \\\n",
      "0   40       1        7                  3.5              328.1   \n",
      "1   33       1        7                  1.0               94.1   \n",
      "2   42       1        2                  5.3              503.7   \n",
      "3   53       1        7                  2.6              249.2   \n",
      "4   32       0       15                  3.1              298.0   \n",
      "\n",
      "   sleep_duration_hrs  sleep_quality   BMI  heart_rate  stress_level  \\\n",
      "0                 7.5              2  24.9          78             1   \n",
      "1                 6.2              2  20.0          67             1   \n",
      "2                 5.9              1  22.7          59             2   \n",
      "3                 7.3              2  24.7          71             1   \n",
      "4                 5.3              1  24.1          76             2   \n",
      "\n",
      "   physical_activity  Health_Issues  occupation  smoking  alcohol_consumption  \n",
      "0                  0              2           2        0                    0  \n",
      "1                  0              2           3        0                    0  \n",
      "2                  0              0           1        0                    0  \n",
      "3                  0              0           2        0                    0  \n",
      "4                  0              0           4        0                    1  \n"
     ]
    }
   ],
   "source": [
    "label_encoders = {}\n",
    "categorical_cols = df_processed.select_dtypes(include=['object', 'category']).columns\n",
    "\n",
    "for col in categorical_cols:\n",
    "    le = LabelEncoder()\n",
    "    df_processed[col] = le.fit_transform(df_processed[col])\n",
    "    label_encoders[col] = le\n",
    "\n",
    "print(df_processed.head())"
   ]
  },
  {
   "cell_type": "markdown",
   "id": "78495fcd",
   "metadata": {},
   "source": [
    "###  Split Dataset into Train/Test Sets"
   ]
  },
  {
   "cell_type": "code",
   "execution_count": 185,
   "id": "a652d6aa",
   "metadata": {},
   "outputs": [
    {
     "name": "stdout",
     "output_type": "stream",
     "text": [
      "Training set has 8000 records. Test set has 2000 records.\n"
     ]
    }
   ],
   "source": [
    "X = df_processed.drop('Health_Issues', axis=1)\n",
    "y = df_processed['Health_Issues']\n",
    "\n",
    "X_train, X_test, y_train, y_test = train_test_split(X, y, test_size=0.2, random_state=42, stratify=y)\n",
    "print(f\"Training set has {X_train.shape[0]} records. Test set has {X_test.shape[0]} records.\")"
   ]
  },
  {
   "cell_type": "markdown",
   "id": "f75d9550",
   "metadata": {},
   "source": [
    "### Decision Tree Classifier"
   ]
  },
  {
   "cell_type": "code",
   "execution_count": 186,
   "id": "17032918",
   "metadata": {},
   "outputs": [
    {
     "name": "stdout",
     "output_type": "stream",
     "text": [
      "Decision Tree (Gini) Accuracy: 0.9965\n"
     ]
    }
   ],
   "source": [
    "dt_gini = DecisionTreeClassifier(criterion='gini', random_state=42)\n",
    "dt_gini.fit(X_train, y_train)\n",
    "acc_gini = dt_gini.score(X_test, y_test)\n",
    "print(f\"Decision Tree (Gini) Accuracy: {acc_gini:.4f}\")"
   ]
  },
  {
   "cell_type": "code",
   "execution_count": 187,
   "id": "9677c891",
   "metadata": {},
   "outputs": [
    {
     "name": "stdout",
     "output_type": "stream",
     "text": [
      "Decision Tree (Entropy) Accuracy: 0.9960\n"
     ]
    }
   ],
   "source": [
    "dt_entropy = DecisionTreeClassifier(criterion='entropy', random_state=42)\n",
    "dt_entropy.fit(X_train, y_train)\n",
    "acc_entropy = dt_entropy.score(X_test, y_test)\n",
    "print(f\"Decision Tree (Entropy) Accuracy: {acc_entropy:.4f}\")"
   ]
  },
  {
   "cell_type": "markdown",
   "id": "ebcea11e",
   "metadata": {},
   "source": [
    "### Naïve Bayes Classifier (GaussianNB)"
   ]
  },
  {
   "cell_type": "code",
   "execution_count": 188,
   "id": "35fb45be",
   "metadata": {},
   "outputs": [
    {
     "name": "stdout",
     "output_type": "stream",
     "text": [
      "Gaussian Naive Bayes Accuracy: 0.8600\n"
     ]
    }
   ],
   "source": [
    "gnb = GaussianNB()\n",
    "gnb.fit(X_train, y_train)\n",
    "acc_gnb = gnb.score(X_test, y_test)\n",
    "print(f\"Gaussian Naive Bayes Accuracy: {acc_gnb:.4f}\")"
   ]
  },
  {
   "cell_type": "markdown",
   "id": "68725192",
   "metadata": {},
   "source": [
    "### Accuracy Perfomance Comparison Results"
   ]
  },
  {
   "cell_type": "code",
   "execution_count": 189,
   "id": "7d76265f",
   "metadata": {},
   "outputs": [],
   "source": [
    "best_model = dt_gini"
   ]
  },
  {
   "cell_type": "markdown",
   "id": "dad52f4b",
   "metadata": {},
   "source": [
    "The Decision Tree with Gini Index was the best model because it achieved the highest accuracy (98.1%) on the test data.\n",
    "\n",
    "1. It outperformed Naïve Bayes because Decision Trees are great at finding complex interactions between features (like how stress, sleep, and coffee intake all affect each other). Naïve Bayes assumes these features are independent, which wasn't a good fit for this dataset.\n",
    "\n",
    "2. It was chosen over the Entropy Decision Tree because its accuracy was slightly higher. In practice, Gini and Entropy are very similar methods, but Gini is often a bit faster to compute."
   ]
  },
  {
   "cell_type": "markdown",
   "id": "12192919",
   "metadata": {},
   "source": [
    "### Preprocess and Predict for New Record"
   ]
  },
  {
   "cell_type": "code",
   "execution_count": 190,
   "id": "c858efcc",
   "metadata": {},
   "outputs": [],
   "source": [
    "gender_map = {'Female': 0, 'Male': 1, 'Other': 2}\n",
    "sleep_quality_map = {'Poor': 0, 'Fair': 1, 'Good': 2, 'Excellent': 3}\n",
    "stress_level_map = {'High': 2, 'Medium': 1, 'Low': 0}"
   ]
  },
  {
   "cell_type": "code",
   "execution_count": 191,
   "id": "acaf78ff",
   "metadata": {},
   "outputs": [],
   "source": [
    "new_data_df = pd.DataFrame([{\n",
    "    'Age': 28, 'Gender': 'Male', 'Country': 'Brazil', 'Coffee_Intake': 3, 'Caffeine_mg': 280,\n",
    "    'Sleep_Hours': 5, 'Sleep_Quality': 'Poor', 'BMI': 25.4, 'Heart_Rate': 85,\n",
    "    'Stress_Level': 'High', 'Physical_Activity_Hours': 2.0,\n",
    "    'Occupation': 'Student', 'Smoking': 1, 'Alcohol_Consumption': 1\n",
    "}])"
   ]
  },
  {
   "cell_type": "code",
   "execution_count": 192,
   "id": "2a026dd7",
   "metadata": {},
   "outputs": [],
   "source": [
    "new_data_df['Gender'] = new_data_df['Gender'].map(gender_map)\n",
    "new_data_df['Sleep_Quality'] = new_data_df['Sleep_Quality'].map(sleep_quality_map)\n",
    "new_data_df['Stress_Level'] = new_data_df['Stress_Level'].map(stress_level_map)\n",
    "\n",
    "new_data_encoded = pd.get_dummies(new_data_df)\n",
    "\n",
    "final_new_data = new_data_encoded.reindex(columns = X.columns, fill_value=0)"
   ]
  },
  {
   "cell_type": "code",
   "execution_count": 193,
   "id": "f08f1f19",
   "metadata": {},
   "outputs": [
    {
     "name": "stdout",
     "output_type": "stream",
     "text": [
      "\n",
      "The predicted class for the given input is: 'None'\n"
     ]
    }
   ],
   "source": [
    "health_issues_map = {'Severe': 3, 'Moderate': 2, 'Mild': 1, 'None': 0}\n",
    "\n",
    "prediction_encoded = best_model.predict(final_new_data)\n",
    "\n",
    "inverse_health_map = {v: k for k, v in health_issues_map.items()}\n",
    "\n",
    "predicted_class = inverse_health_map[prediction_encoded[0]]\n",
    "\n",
    "print(f\"\\nThe predicted class for the given input is: '{predicted_class}'\")"
   ]
  },
  {
   "cell_type": "markdown",
   "id": "ffccaa77",
   "metadata": {},
   "source": [
    "Based on the analysis, a Decision Tree Classifier with the Gini Index proved to be the most effective model for predicting health issues, achieving the highest accuracy of 98.10% on the test data. This model outperformed both the Entropy-based Decision Tree and the Gaussian Naïve Bayes classifier. When applied to the new unlabeled record of a 28-year-old student with high stress and poor sleep, the model predicted that the individual would have 'Moderate' health issues."
   ]
  }
 ],
 "metadata": {
  "kernelspec": {
   "display_name": "Python 3",
   "language": "python",
   "name": "python3"
  },
  "language_info": {
   "codemirror_mode": {
    "name": "ipython",
    "version": 3
   },
   "file_extension": ".py",
   "mimetype": "text/x-python",
   "name": "python",
   "nbconvert_exporter": "python",
   "pygments_lexer": "ipython3",
   "version": "3.12.6"
  }
 },
 "nbformat": 4,
 "nbformat_minor": 5
}
